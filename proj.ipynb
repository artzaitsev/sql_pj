{
 "cells": [
  {
   "cell_type": "markdown",
   "id": "42289889-bd57-434e-9637-d3e354756316",
   "metadata": {
    "id": "42289889-bd57-434e-9637-d3e354756316"
   },
   "source": [
    "<center> <img src = https://raw.githubusercontent.com/AndreyRysistov/DatasetsForPandas/main/hh%20label.jpg alt=\"drawing\" style=\"width:400px;\">"
   ]
  },
  {
   "cell_type": "markdown",
   "id": "829cb75b-f14e-4ba8-9195-7ba929a7d656",
   "metadata": {
    "id": "829cb75b-f14e-4ba8-9195-7ba929a7d656",
    "tags": []
   },
   "source": [
    "# Проект «Анализ вакансий из HeadHunter»\n",
    "   "
   ]
  },
  {
   "cell_type": "code",
   "id": "dccfde33-2452-43fb-a8a5-5c6ebc02a71d",
   "metadata": {
    "id": "dccfde33-2452-43fb-a8a5-5c6ebc02a71d",
    "ExecuteTime": {
     "end_time": "2025-03-01T02:50:21.397768Z",
     "start_time": "2025-03-01T02:50:21.379967Z"
    }
   },
   "source": [
    "import pandas as pd\n",
    "import psycopg2\n",
    "from dotenv import load_dotenv\n",
    "import os\n",
    "import matplotlib.pyplot as plt\n",
    "from pandas.core.interchange.dataframe_protocol import DataFrame\n",
    "import seaborn as sns\n",
    "import numpy as np"
   ],
   "outputs": [],
   "execution_count": 61
  },
  {
   "cell_type": "code",
   "id": "oVKH4ehvf8Ay",
   "metadata": {
    "id": "oVKH4ehvf8Ay",
    "ExecuteTime": {
     "end_time": "2025-03-01T02:50:21.407178Z",
     "start_time": "2025-03-01T02:50:21.402874Z"
    }
   },
   "source": [
    "# вставьте сюда параметры подключения из юнита 1. Работа с базой данных из Python\n",
    "\n",
    "# подгружаем переменные окружения из .env\n",
    "load_dotenv()\n",
    "\n",
    "# устанавливаем секреты из переменных окружения\n",
    "DBNAME = os.getenv('DBNAME')\n",
    "USER = os.getenv('DBUSER')\n",
    "PASSWORD = os.getenv('DBPASSWORD')\n",
    "HOST = os.getenv('DBHOST')\n",
    "PORT = os.getenv('DBPORT')"
   ],
   "outputs": [],
   "execution_count": 62
  },
  {
   "cell_type": "code",
   "id": "G4X_q8KBf7SF",
   "metadata": {
    "id": "G4X_q8KBf7SF",
    "ExecuteTime": {
     "end_time": "2025-03-01T02:50:21.632387Z",
     "start_time": "2025-03-01T02:50:21.420134Z"
    }
   },
   "source": [
    "import warnings\n",
    "\n",
    "# Чтобы Pandas не сыпал SQLAlchemy Warnings\n",
    "warnings.simplefilter(action='ignore', category=UserWarning)\n",
    "\n",
    "connection = psycopg2.connect(\n",
    "   dbname=DBNAME,\n",
    "   user=USER,\n",
    "   host=HOST,\n",
    "   password=PASSWORD,\n",
    "   port=PORT\n",
    ")"
   ],
   "outputs": [],
   "execution_count": 63
  },
  {
   "cell_type": "markdown",
   "id": "0dc6476b-7a00-44f1-ac93-6e3baed33a29",
   "metadata": {
    "id": "0dc6476b-7a00-44f1-ac93-6e3baed33a29"
   },
   "source": [
    "## 3. Предварительный анализ данных"
   ]
  },
  {
   "cell_type": "markdown",
   "id": "889782b6-8d1c-410e-8920-e57f27917c64",
   "metadata": {
    "id": "889782b6-8d1c-410e-8920-e57f27917c64"
   },
   "source": [
    "1. Напишите запрос, который посчитает количество вакансий в базе (вакансии находятся в таблице `vacancies`)."
   ]
  },
  {
   "cell_type": "code",
   "id": "bc39e68e-ed02-4ee2-9235-7258a2f867a8",
   "metadata": {
    "id": "bc39e68e-ed02-4ee2-9235-7258a2f867a8",
    "ExecuteTime": {
     "end_time": "2025-03-01T02:50:21.644118Z",
     "start_time": "2025-03-01T02:50:21.641923Z"
    }
   },
   "source": [
    "# текст запроса\n",
    "query_3_1 = f'''\n",
    "SELECT COUNT(*) as cnt\n",
    "FROM vacancies\n",
    "'''"
   ],
   "outputs": [],
   "execution_count": 64
  },
  {
   "cell_type": "code",
   "id": "7mAwtsk4hEHY",
   "metadata": {
    "id": "7mAwtsk4hEHY",
    "ExecuteTime": {
     "end_time": "2025-03-01T02:50:21.730302Z",
     "start_time": "2025-03-01T02:50:21.653188Z"
    }
   },
   "source": [
    "# результат запроса\n",
    "df = pd.read_sql_query(query_3_1, connection)\n",
    "vacancies_cnt = df['cnt'][0]\n",
    "print(\"Количество вакансий в базе:\", vacancies_cnt)"
   ],
   "outputs": [
    {
     "name": "stdout",
     "output_type": "stream",
     "text": [
      "Количество вакансий в базе: 49197\n"
     ]
    }
   ],
   "execution_count": 65
  },
  {
   "cell_type": "markdown",
   "id": "b583485d-1f9e-494e-ada4-80ffff7c53d6",
   "metadata": {
    "id": "b583485d-1f9e-494e-ada4-80ffff7c53d6"
   },
   "source": [
    "2. Напишите запрос, который посчитает количество работодателей (таблица `employers`)."
   ]
  },
  {
   "cell_type": "code",
   "id": "5408c52c-3407-4a63-b25b-1aafa2322d28",
   "metadata": {
    "id": "5408c52c-3407-4a63-b25b-1aafa2322d28",
    "ExecuteTime": {
     "end_time": "2025-03-01T02:50:21.758744Z",
     "start_time": "2025-03-01T02:50:21.756085Z"
    }
   },
   "source": [
    "# текст запроса\n",
    "q_employers = f'''\n",
    "SELECT COUNT(*) as cnt\n",
    "FROM employers\n",
    "'''"
   ],
   "outputs": [],
   "execution_count": 66
  },
  {
   "cell_type": "code",
   "id": "jVL4eshKhdqc",
   "metadata": {
    "id": "jVL4eshKhdqc",
    "ExecuteTime": {
     "end_time": "2025-03-01T02:50:21.821030Z",
     "start_time": "2025-03-01T02:50:21.782518Z"
    }
   },
   "source": [
    "# результат запроса\n",
    "df = pd.read_sql_query(q_employers, connection)\n",
    "employers_cnt = df['cnt'][0]\n",
    "print(\"Количество работодателей в базе:\", employers_cnt)"
   ],
   "outputs": [
    {
     "name": "stdout",
     "output_type": "stream",
     "text": [
      "Количество работодателей в базе: 23501\n"
     ]
    }
   ],
   "execution_count": 67
  },
  {
   "cell_type": "markdown",
   "id": "a2bfff1f-c975-4bf6-84be-2185d79dcb76",
   "metadata": {
    "id": "a2bfff1f-c975-4bf6-84be-2185d79dcb76"
   },
   "source": [
    "3. Посчитайте с помощью запроса количество регионов (таблица `areas`)."
   ]
  },
  {
   "cell_type": "code",
   "id": "1m8QJwBYhey6",
   "metadata": {
    "id": "1m8QJwBYhey6",
    "ExecuteTime": {
     "end_time": "2025-03-01T02:50:21.833599Z",
     "start_time": "2025-03-01T02:50:21.831338Z"
    }
   },
   "source": [
    "# текст запроса\n",
    "q_areas = f'''\n",
    "SELECT COUNT(*) as cnt\n",
    "FROM areas\n",
    "'''"
   ],
   "outputs": [],
   "execution_count": 68
  },
  {
   "cell_type": "code",
   "id": "EZsn9tlfhe7f",
   "metadata": {
    "id": "EZsn9tlfhe7f",
    "ExecuteTime": {
     "end_time": "2025-03-01T02:50:21.911261Z",
     "start_time": "2025-03-01T02:50:21.876112Z"
    }
   },
   "source": [
    "# результат запроса\n",
    "df = pd.read_sql_query(q_areas, connection)\n",
    "areas_cnt = df['cnt'][0]\n",
    "print(\"Количество регионов в базе:\", areas_cnt)"
   ],
   "outputs": [
    {
     "name": "stdout",
     "output_type": "stream",
     "text": [
      "Количество регионов в базе: 1362\n"
     ]
    }
   ],
   "execution_count": 69
  },
  {
   "cell_type": "markdown",
   "id": "41bb59f3-53cc-4a67-a5bc-bedf573955e4",
   "metadata": {
    "id": "41bb59f3-53cc-4a67-a5bc-bedf573955e4"
   },
   "source": [
    "4. Посчитайте с помощью запроса количество сфер деятельности в базе (таблица `industries`)."
   ]
  },
  {
   "cell_type": "code",
   "id": "d286cf4c-707b-4cd2-9190-7ab3587d04a1",
   "metadata": {
    "id": "d286cf4c-707b-4cd2-9190-7ab3587d04a1",
    "ExecuteTime": {
     "end_time": "2025-03-01T02:50:21.928328Z",
     "start_time": "2025-03-01T02:50:21.925816Z"
    }
   },
   "source": [
    "# текст запроса\n",
    "q_industries = f'''\n",
    "SELECT COUNT(*) as cnt\n",
    "FROM industries\n",
    "'''"
   ],
   "outputs": [],
   "execution_count": 70
  },
  {
   "cell_type": "code",
   "id": "JYAaoZ4qhfzW",
   "metadata": {
    "id": "JYAaoZ4qhfzW",
    "ExecuteTime": {
     "end_time": "2025-03-01T02:50:22.004732Z",
     "start_time": "2025-03-01T02:50:21.969991Z"
    }
   },
   "source": [
    "# результат запроса\n",
    "df = pd.read_sql_query(q_industries, connection)\n",
    "industries_cnt = df['cnt'][0]\n",
    "print(\"Количество сфер деятельности в базе:\", industries_cnt)"
   ],
   "outputs": [
    {
     "name": "stdout",
     "output_type": "stream",
     "text": [
      "Количество сфер деятельности в базе: 294\n"
     ]
    }
   ],
   "execution_count": 71
  },
  {
   "cell_type": "markdown",
   "id": "ed4de9ce",
   "metadata": {},
   "source": [
    "***"
   ]
  },
  {
   "cell_type": "code",
   "id": "be4e9bd3-a4db-4a20-82fb-6b02fc2957e0",
   "metadata": {
    "id": "be4e9bd3-a4db-4a20-82fb-6b02fc2957e0",
    "ExecuteTime": {
     "end_time": "2025-03-01T02:50:22.017700Z",
     "start_time": "2025-03-01T02:50:22.015383Z"
    }
   },
   "source": [
    "# выводы по предварительному анализу данных\n",
    "\n",
    "print(f'''\n",
    "Итого:\n",
    "- В базе вакансий {vacancies_cnt}.\n",
    "- Всего работодателей {employers_cnt}.\n",
    "- В базе существует {areas_cnt} регионов.\n",
    "- Существует {industries_cnt} сфер деятельности.\n",
    "\n",
    "Из интересного:\n",
    "- На одного работодателя в среднем приходится {round(vacancies_cnt / employers_cnt, 2)} вакансии.\n",
    "''')"
   ],
   "outputs": [
    {
     "name": "stdout",
     "output_type": "stream",
     "text": [
      "\n",
      "Итого:\n",
      "- В базе вакансий 49197.\n",
      "- Всего работодателей 23501.\n",
      "- В базе существует 1362 регионов.\n",
      "- Существует 294 сфер деятельности.\n",
      "\n",
      "Из интересного:\n",
      "- На одного работодателя в среднем приходится 2.09 вакансии.\n",
      "\n"
     ]
    }
   ],
   "execution_count": 72
  },
  {
   "metadata": {},
   "cell_type": "markdown",
   "source": [
    "База весьма масштабная, а география и количество отраслей достаточно обширны, чтобы можно было проводить репрезентативные исследования и делать выводы об общем состоянии HR рынка.\n",
    "Будет интересно посмотреть, как вакансии распределяются по компаниям и городам, а так же какие требования к опыту предъявляют компании и какие зарплатные вилки предлагают."
   ],
   "id": "ccace85e05b05f18"
  },
  {
   "cell_type": "markdown",
   "id": "8d62a9f3-f64e-4fe7-bdac-c4dffa16155e",
   "metadata": {
    "id": "8d62a9f3-f64e-4fe7-bdac-c4dffa16155e"
   },
   "source": [
    "## 4. Детальный анализ вакансий"
   ]
  },
  {
   "cell_type": "markdown",
   "id": "93053d3d-b284-481a-9cf7-012d7014c0e0",
   "metadata": {
    "id": "93053d3d-b284-481a-9cf7-012d7014c0e0"
   },
   "source": [
    "1. Напишите запрос, который позволит узнать, сколько (`cnt`) вакансий в каждом регионе (`area`).\n",
    "Отсортируйте по количеству вакансий в порядке убывания."
   ]
  },
  {
   "cell_type": "code",
   "id": "3f069da6-fdc9-4ae7-b514-fafe2675efd3",
   "metadata": {
    "id": "3f069da6-fdc9-4ae7-b514-fafe2675efd3",
    "ExecuteTime": {
     "end_time": "2025-03-01T02:50:22.060543Z",
     "start_time": "2025-03-01T02:50:22.058377Z"
    }
   },
   "source": [
    "# текст запроса\n",
    "q_area_vacancies = f'''\n",
    "SELECT a.name AS area, COUNT(v.*) AS cnt\n",
    "FROM vacancies v\n",
    "JOIN areas a ON v.area_id = a.id\n",
    "GROUP BY a.name\n",
    "ORDER BY cnt DESC\n",
    "'''"
   ],
   "outputs": [],
   "execution_count": 73
  },
  {
   "cell_type": "code",
   "id": "P7QL86hrjhRJ",
   "metadata": {
    "id": "P7QL86hrjhRJ",
    "ExecuteTime": {
     "end_time": "2025-03-01T02:50:22.223150Z",
     "start_time": "2025-03-01T02:50:22.114255Z"
    }
   },
   "source": [
    "# результат запроса\n",
    "df = pd.read_sql_query(q_area_vacancies, connection)\n",
    "df.head()"
   ],
   "outputs": [
    {
     "data": {
      "text/plain": [
       "              area   cnt\n",
       "0           Москва  5333\n",
       "1  Санкт-Петербург  2851\n",
       "2            Минск  2112\n",
       "3      Новосибирск  2006\n",
       "4           Алматы  1892"
      ],
      "text/html": [
       "<div>\n",
       "<style scoped>\n",
       "    .dataframe tbody tr th:only-of-type {\n",
       "        vertical-align: middle;\n",
       "    }\n",
       "\n",
       "    .dataframe tbody tr th {\n",
       "        vertical-align: top;\n",
       "    }\n",
       "\n",
       "    .dataframe thead th {\n",
       "        text-align: right;\n",
       "    }\n",
       "</style>\n",
       "<table border=\"1\" class=\"dataframe\">\n",
       "  <thead>\n",
       "    <tr style=\"text-align: right;\">\n",
       "      <th></th>\n",
       "      <th>area</th>\n",
       "      <th>cnt</th>\n",
       "    </tr>\n",
       "  </thead>\n",
       "  <tbody>\n",
       "    <tr>\n",
       "      <th>0</th>\n",
       "      <td>Москва</td>\n",
       "      <td>5333</td>\n",
       "    </tr>\n",
       "    <tr>\n",
       "      <th>1</th>\n",
       "      <td>Санкт-Петербург</td>\n",
       "      <td>2851</td>\n",
       "    </tr>\n",
       "    <tr>\n",
       "      <th>2</th>\n",
       "      <td>Минск</td>\n",
       "      <td>2112</td>\n",
       "    </tr>\n",
       "    <tr>\n",
       "      <th>3</th>\n",
       "      <td>Новосибирск</td>\n",
       "      <td>2006</td>\n",
       "    </tr>\n",
       "    <tr>\n",
       "      <th>4</th>\n",
       "      <td>Алматы</td>\n",
       "      <td>1892</td>\n",
       "    </tr>\n",
       "  </tbody>\n",
       "</table>\n",
       "</div>"
      ]
     },
     "execution_count": 74,
     "metadata": {},
     "output_type": "execute_result"
    }
   ],
   "execution_count": 74
  },
  {
   "metadata": {
    "ExecuteTime": {
     "end_time": "2025-03-01T02:50:22.415887Z",
     "start_time": "2025-03-01T02:50:22.279929Z"
    }
   },
   "cell_type": "code",
   "source": [
    "df_vacancies = df.head(15)\n",
    "plt.figure(figsize=(10, 5))\n",
    "sns.barplot(data=df_vacancies, x=\"area\", y=\"cnt\")\n",
    "plt.title(\"ТОП-15 городов по числу вакансий\")\n",
    "plt.xlabel(\"Город\")\n",
    "plt.ylabel(\"Число вакансий\")\n",
    "plt.xticks(rotation=45)\n",
    "plt.tight_layout()\n",
    "plt.show()"
   ],
   "id": "e21351c803a6702d",
   "outputs": [
    {
     "data": {
      "text/plain": [
       "<Figure size 1000x500 with 1 Axes>"
      ],
      "image/png": "[encoded data removed]"
     },
     "metadata": {},
     "output_type": "display_data"
    }
   ],
   "execution_count": 75
  },
  {
   "cell_type": "markdown",
   "id": "4266f0b6-1646-492a-88b4-2f6a46502135",
   "metadata": {
    "id": "4266f0b6-1646-492a-88b4-2f6a46502135"
   },
   "source": [
    "2. Напишите запрос, чтобы определить у какого количества вакансий заполнено хотя бы одно из двух полей с зарплатой."
   ]
  },
  {
   "cell_type": "code",
   "id": "0c44b350-72eb-4d65-8b54-a1fc449ba9fd",
   "metadata": {
    "id": "0c44b350-72eb-4d65-8b54-a1fc449ba9fd",
    "ExecuteTime": {
     "end_time": "2025-03-01T02:50:22.477886Z",
     "start_time": "2025-03-01T02:50:22.475864Z"
    }
   },
   "source": [
    "# текст запроса\n",
    "q_vacancies_not_empty = '''\n",
    "SELECT COUNT(*) AS vacancy_not_empty_count\n",
    "FROM vacancies\n",
    "WHERE salary_from IS NOT NULL OR salary_to IS NOT NULL;\n",
    "'''"
   ],
   "outputs": [],
   "execution_count": 76
  },
  {
   "cell_type": "code",
   "id": "rhvwaMDkoWTi",
   "metadata": {
    "id": "rhvwaMDkoWTi",
    "ExecuteTime": {
     "end_time": "2025-03-01T02:50:22.616709Z",
     "start_time": "2025-03-01T02:50:22.570429Z"
    }
   },
   "source": [
    "# результат запроса\n",
    "df = pd.read_sql_query(q_vacancies_not_empty, connection)\n",
    "vacancies_not_empty = df['vacancy_not_empty_count'][0]\n",
    "print(\"Кол-во вакансий, где хотя бы одно значение вилки зарплаты заполнено:\", df['vacancy_not_empty_count'][0])"
   ],
   "outputs": [
    {
     "name": "stdout",
     "output_type": "stream",
     "text": [
      "Кол-во вакансий, где хотя бы одно значение вилки зарплаты заполнено: 24073\n"
     ]
    }
   ],
   "execution_count": 77
  },
  {
   "metadata": {
    "ExecuteTime": {
     "end_time": "2025-03-01T02:50:22.754860Z",
     "start_time": "2025-03-01T02:50:22.715604Z"
    }
   },
   "cell_type": "code",
   "source": [
    "# Данные\n",
    "labels = ['Указывают зарплату', 'Не указывают зарплату']\n",
    "sizes = [vacancies_not_empty, vacancies_cnt - vacancies_not_empty]  # Доли\n",
    "colors = ['blue', 'gray']  # Разные цвета\n",
    "\n",
    "# Рисуем круговую диаграмму\n",
    "plt.figure(figsize=(6, 6))\n",
    "plt.pie(sizes, labels=labels, autopct='%1.1f%%', colors=colors, startangle=90)\n",
    "plt.title(\"Указавшие / НЕ указавшие зарплатную вилку\")\n",
    "plt.show()"
   ],
   "id": "5e0b10659fd7e31c",
   "outputs": [
    {
     "data": {
      "text/plain": [
       "<Figure size 600x600 with 1 Axes>"
      ],
      "image/png": "[encoded data removed]"
     },
     "metadata": {},
     "output_type": "display_data"
    }
   ],
   "execution_count": 78
  },
  {
   "cell_type": "markdown",
   "id": "635c4d5d-f323-4c66-b428-50a088120aa0",
   "metadata": {
    "id": "635c4d5d-f323-4c66-b428-50a088120aa0"
   },
   "source": [
    "3. Найдите средние значения для нижней и верхней границы зарплатной вилки. Округлите значения до **целого числа**."
   ]
  },
  {
   "cell_type": "code",
   "id": "603cdbe4-0ec3-4106-8eaf-c73fcdd29165",
   "metadata": {
    "id": "603cdbe4-0ec3-4106-8eaf-c73fcdd29165",
    "ExecuteTime": {
     "end_time": "2025-03-01T02:50:22.823613Z",
     "start_time": "2025-03-01T02:50:22.821775Z"
    }
   },
   "source": [
    "# текст запроса\n",
    "q_vacancies_salary_avg = '''\n",
    "SELECT\n",
    "    ROUND(AVG(salary_from)) AS avg_salary_from,\n",
    "    ROUND(AVG(salary_to)) AS avg_salary_to\n",
    "FROM vacancies\n",
    "'''"
   ],
   "outputs": [],
   "execution_count": 79
  },
  {
   "cell_type": "code",
   "id": "pswpAb66ovZZ",
   "metadata": {
    "id": "pswpAb66ovZZ",
    "ExecuteTime": {
     "end_time": "2025-03-01T02:50:22.937504Z",
     "start_time": "2025-03-01T02:50:22.887137Z"
    }
   },
   "source": [
    "# результат запроса\n",
    "df = pd.read_sql_query(q_vacancies_salary_avg, connection)\n",
    "df['avg_salary_from'] = df['avg_salary_from'].astype(int)\n",
    "df['avg_salary_to'] = df['avg_salary_to'].astype(int)\n",
    "\n",
    "avg_salary_from = df['avg_salary_from'][0]\n",
    "avg_salary_to = df['avg_salary_to'][0]\n",
    "\n",
    "df.head()"
   ],
   "outputs": [
    {
     "data": {
      "text/plain": [
       "   avg_salary_from  avg_salary_to\n",
       "0            71065         110537"
      ],
      "text/html": [
       "<div>\n",
       "<style scoped>\n",
       "    .dataframe tbody tr th:only-of-type {\n",
       "        vertical-align: middle;\n",
       "    }\n",
       "\n",
       "    .dataframe tbody tr th {\n",
       "        vertical-align: top;\n",
       "    }\n",
       "\n",
       "    .dataframe thead th {\n",
       "        text-align: right;\n",
       "    }\n",
       "</style>\n",
       "<table border=\"1\" class=\"dataframe\">\n",
       "  <thead>\n",
       "    <tr style=\"text-align: right;\">\n",
       "      <th></th>\n",
       "      <th>avg_salary_from</th>\n",
       "      <th>avg_salary_to</th>\n",
       "    </tr>\n",
       "  </thead>\n",
       "  <tbody>\n",
       "    <tr>\n",
       "      <th>0</th>\n",
       "      <td>71065</td>\n",
       "      <td>110537</td>\n",
       "    </tr>\n",
       "  </tbody>\n",
       "</table>\n",
       "</div>"
      ]
     },
     "execution_count": 80,
     "metadata": {},
     "output_type": "execute_result"
    }
   ],
   "execution_count": 80
  },
  {
   "cell_type": "markdown",
   "id": "f3fdaec9-5fd3-4260-9cf5-1d7406b628a5",
   "metadata": {
    "id": "f3fdaec9-5fd3-4260-9cf5-1d7406b628a5"
   },
   "source": [
    "4. Напишите запрос, который выведет количество вакансий для каждого сочетания типа рабочего графика (`schedule`) и типа трудоустройства (`employment`), используемого в вакансиях. Результат отсортируйте по убыванию количества.\n"
   ]
  },
  {
   "cell_type": "code",
   "id": "1ea710ec-871b-431e-9462-c7d0fd87011b",
   "metadata": {
    "id": "1ea710ec-871b-431e-9462-c7d0fd87011b",
    "ExecuteTime": {
     "end_time": "2025-03-01T02:50:23.102095Z",
     "start_time": "2025-03-01T02:50:23.100415Z"
    }
   },
   "source": [
    "# текст запроса\n",
    "q_schedule_employment = '''\n",
    "SELECT\n",
    "    schedule,\n",
    "    employment,\n",
    "    COUNT(*) AS vacancy_count\n",
    "FROM vacancies\n",
    "GROUP BY schedule, employment\n",
    "ORDER BY vacancy_count DESC;\n",
    "'''"
   ],
   "outputs": [],
   "execution_count": 81
  },
  {
   "cell_type": "code",
   "id": "lGUVqavdo4JQ",
   "metadata": {
    "id": "lGUVqavdo4JQ",
    "ExecuteTime": {
     "end_time": "2025-03-01T02:50:23.267042Z",
     "start_time": "2025-03-01T02:50:23.211621Z"
    }
   },
   "source": [
    "# результат запроса\n",
    "df = pd.read_sql_query(q_schedule_employment, connection)\n",
    "df.head()"
   ],
   "outputs": [
    {
     "data": {
      "text/plain": [
       "           schedule           employment  vacancy_count\n",
       "0       Полный день     Полная занятость          35367\n",
       "1  Удаленная работа     Полная занятость           7802\n",
       "2     Гибкий график     Полная занятость           1593\n",
       "3  Удаленная работа  Частичная занятость           1312\n",
       "4    Сменный график     Полная занятость            940"
      ],
      "text/html": [
       "<div>\n",
       "<style scoped>\n",
       "    .dataframe tbody tr th:only-of-type {\n",
       "        vertical-align: middle;\n",
       "    }\n",
       "\n",
       "    .dataframe tbody tr th {\n",
       "        vertical-align: top;\n",
       "    }\n",
       "\n",
       "    .dataframe thead th {\n",
       "        text-align: right;\n",
       "    }\n",
       "</style>\n",
       "<table border=\"1\" class=\"dataframe\">\n",
       "  <thead>\n",
       "    <tr style=\"text-align: right;\">\n",
       "      <th></th>\n",
       "      <th>schedule</th>\n",
       "      <th>employment</th>\n",
       "      <th>vacancy_count</th>\n",
       "    </tr>\n",
       "  </thead>\n",
       "  <tbody>\n",
       "    <tr>\n",
       "      <th>0</th>\n",
       "      <td>Полный день</td>\n",
       "      <td>Полная занятость</td>\n",
       "      <td>35367</td>\n",
       "    </tr>\n",
       "    <tr>\n",
       "      <th>1</th>\n",
       "      <td>Удаленная работа</td>\n",
       "      <td>Полная занятость</td>\n",
       "      <td>7802</td>\n",
       "    </tr>\n",
       "    <tr>\n",
       "      <th>2</th>\n",
       "      <td>Гибкий график</td>\n",
       "      <td>Полная занятость</td>\n",
       "      <td>1593</td>\n",
       "    </tr>\n",
       "    <tr>\n",
       "      <th>3</th>\n",
       "      <td>Удаленная работа</td>\n",
       "      <td>Частичная занятость</td>\n",
       "      <td>1312</td>\n",
       "    </tr>\n",
       "    <tr>\n",
       "      <th>4</th>\n",
       "      <td>Сменный график</td>\n",
       "      <td>Полная занятость</td>\n",
       "      <td>940</td>\n",
       "    </tr>\n",
       "  </tbody>\n",
       "</table>\n",
       "</div>"
      ]
     },
     "execution_count": 82,
     "metadata": {},
     "output_type": "execute_result"
    }
   ],
   "execution_count": 82
  },
  {
   "metadata": {
    "ExecuteTime": {
     "end_time": "2025-03-01T02:50:23.491543Z",
     "start_time": "2025-03-01T02:50:23.386056Z"
    }
   },
   "cell_type": "code",
   "source": [
    "# Группируем данные по графику работы и типу занятости\n",
    "pivot_df = df.pivot(index=\"schedule\", columns=\"employment\", values=\"vacancy_count\")\n",
    "\n",
    "# Строим составленную (stacked) столбчатую диаграмму\n",
    "fig, ax = plt.subplots(figsize=(9, 6))\n",
    "\n",
    "# Перебираем категории занятости и строим stacked bar\n",
    "bottom = np.zeros(len(pivot_df))  # Для накопления значений\n",
    "for column in pivot_df.columns:\n",
    "    ax.bar(pivot_df.index, pivot_df[column], label=column, bottom=bottom)\n",
    "    bottom += pivot_df[column].fillna(0).values  # Обновляем нижнюю границу\n",
    "\n",
    "# Настройка осей и заголовка\n",
    "ax.set_xlabel(\"График работы\", fontsize=12)\n",
    "ax.set_ylabel(\"Количество вакансий\", fontsize=12)\n",
    "ax.set_title(\"Распределение вакансий по графику работы и типу занятости\", fontsize=14)\n",
    "ax.legend(title=\"Тип занятости\", fontsize=10)\n",
    "\n",
    "# Отображение графика\n",
    "plt.xticks(rotation=30, ha=\"right\")\n",
    "plt.show()"
   ],
   "id": "dd751418ecd4da59",
   "outputs": [
    {
     "data": {
      "text/plain": [
       "<Figure size 900x600 with 1 Axes>"
      ],
      "image/png": "[encoded data removed]"
     },
     "metadata": {},
     "output_type": "display_data"
    }
   ],
   "execution_count": 83
  },
  {
   "cell_type": "markdown",
   "id": "0136ffee-0ead-4a6b-b608-61d1c753a438",
   "metadata": {
    "id": "0136ffee-0ead-4a6b-b608-61d1c753a438"
   },
   "source": [
    "5. Напишите запрос, выводящий значения поля «Требуемый опыт работы» (`experience`) в порядке возрастания количества вакансий, в которых указан данный вариант опыта."
   ]
  },
  {
   "cell_type": "code",
   "id": "5b3a8e79-f7ab-4008-b767-12aea3a205ea",
   "metadata": {
    "id": "5b3a8e79-f7ab-4008-b767-12aea3a205ea",
    "ExecuteTime": {
     "end_time": "2025-03-01T02:50:23.669353Z",
     "start_time": "2025-03-01T02:50:23.666669Z"
    }
   },
   "source": [
    "# текст запроса\n",
    "q_experience_vacancies_cnt = '''\n",
    "SELECT\n",
    "    experience,\n",
    "    COUNT(*) AS vacancy_count\n",
    "FROM vacancies\n",
    "GROUP BY experience\n",
    "ORDER BY vacancy_count ASC;\n",
    "'''"
   ],
   "outputs": [],
   "execution_count": 84
  },
  {
   "cell_type": "code",
   "id": "3Is64Y-hpDpq",
   "metadata": {
    "id": "3Is64Y-hpDpq",
    "ExecuteTime": {
     "end_time": "2025-03-01T02:50:23.857948Z",
     "start_time": "2025-03-01T02:50:23.806868Z"
    }
   },
   "source": [
    "# результат запроса\n",
    "df = pd.read_sql_query(q_experience_vacancies_cnt, connection)\n",
    "df.head()"
   ],
   "outputs": [
    {
     "data": {
      "text/plain": [
       "           experience  vacancy_count\n",
       "0         Более 6 лет           1337\n",
       "1           Нет опыта           7197\n",
       "2       От 3 до 6 лет          14511\n",
       "3  От 1 года до 3 лет          26152"
      ],
      "text/html": [
       "<div>\n",
       "<style scoped>\n",
       "    .dataframe tbody tr th:only-of-type {\n",
       "        vertical-align: middle;\n",
       "    }\n",
       "\n",
       "    .dataframe tbody tr th {\n",
       "        vertical-align: top;\n",
       "    }\n",
       "\n",
       "    .dataframe thead th {\n",
       "        text-align: right;\n",
       "    }\n",
       "</style>\n",
       "<table border=\"1\" class=\"dataframe\">\n",
       "  <thead>\n",
       "    <tr style=\"text-align: right;\">\n",
       "      <th></th>\n",
       "      <th>experience</th>\n",
       "      <th>vacancy_count</th>\n",
       "    </tr>\n",
       "  </thead>\n",
       "  <tbody>\n",
       "    <tr>\n",
       "      <th>0</th>\n",
       "      <td>Более 6 лет</td>\n",
       "      <td>1337</td>\n",
       "    </tr>\n",
       "    <tr>\n",
       "      <th>1</th>\n",
       "      <td>Нет опыта</td>\n",
       "      <td>7197</td>\n",
       "    </tr>\n",
       "    <tr>\n",
       "      <th>2</th>\n",
       "      <td>От 3 до 6 лет</td>\n",
       "      <td>14511</td>\n",
       "    </tr>\n",
       "    <tr>\n",
       "      <th>3</th>\n",
       "      <td>От 1 года до 3 лет</td>\n",
       "      <td>26152</td>\n",
       "    </tr>\n",
       "  </tbody>\n",
       "</table>\n",
       "</div>"
      ]
     },
     "execution_count": 85,
     "metadata": {},
     "output_type": "execute_result"
    }
   ],
   "execution_count": 85
  },
  {
   "cell_type": "markdown",
   "id": "oq2b7n1QpIka",
   "metadata": {
    "id": "oq2b7n1QpIka"
   },
   "source": [
    "***"
   ]
  },
  {
   "metadata": {
    "ExecuteTime": {
     "end_time": "2025-03-01T02:50:23.989332Z",
     "start_time": "2025-03-01T02:50:23.921340Z"
    }
   },
   "cell_type": "code",
   "source": [
    "# Строим горизонтальную столбчатую диаграмму\n",
    "fig, ax = plt.subplots(figsize=(9, 6))\n",
    "bars = ax.barh(df[\"experience\"], df[\"vacancy_count\"], color=[\"blue\", \"orange\", \"green\", \"red\"])\n",
    "\n",
    "# Подписываем значения на графике\n",
    "for bar in bars:\n",
    "    width = bar.get_width()\n",
    "    ax.text(width + 500, bar.get_y() + bar.get_height()/2, str(width), ha='left', va='center', fontsize=12)\n",
    "\n",
    "# Подписываем оси\n",
    "ax.set_xlabel(\"Количество вакансий\", fontsize=12)\n",
    "ax.set_ylabel(\"Опыт работы\", fontsize=12)\n",
    "ax.set_title(\"Распределение вакансий по опыту работы\", fontsize=14)\n",
    "\n",
    "# Убираем рамку и добавляем стиль\n",
    "ax.spines['top'].set_visible(False)\n",
    "ax.spines['right'].set_visible(False)\n",
    "\n",
    "# Отображаем график\n",
    "plt.show()"
   ],
   "id": "33c265801ff06684",
   "outputs": [
    {
     "data": {
      "text/plain": [
       "<Figure size 900x600 with 1 Axes>"
      ],
      "image/png": "[encoded data removed]"
     },
     "metadata": {},
     "output_type": "display_data"
    }
   ],
   "execution_count": 86
  },
  {
   "cell_type": "code",
   "id": "e91f87ed-e25c-4f96-9f92-b642e8c0b4fa",
   "metadata": {
    "id": "e91f87ed-e25c-4f96-9f92-b642e8c0b4fa",
    "ExecuteTime": {
     "end_time": "2025-03-01T02:50:24.116727Z",
     "start_time": "2025-03-01T02:50:24.114263Z"
    }
   },
   "source": "# выводы по детальному анализу вакансий",
   "outputs": [],
   "execution_count": 87
  },
  {
   "metadata": {},
   "cell_type": "markdown",
   "source": [
    "Ожидаемо, наибольшее количество вакансий (5333) сосредоточенно в Московском регионе. Вообще, крупные города, такие как Москва, Санкт-Петербург, Минск, Новосибирск и т.д., возглавляют рейтинг по количеству вакансий. Интересно, как распределены города-миллионники стран ближнего зарубежья (Минск, Алматы, Ташкент и т.д.). Они вполне вписываются в общую картину Российских городов. Это свидетельствует, что Head Hunter востребован так же хорошо и в странах СНГ.\n",
    "\n",
    "Более половины вакансий не содержат никаких ориентиров по зарплате. Судя по всему, большинство работодателей предпочитает обсуждать зарплатные ожидания строго индивидуально.\n",
    "\n",
    "Средние значения нижней и верхней границ окладов (70–110 тыс. рублей) не говорят в отрыве от динамики год - к году ни о чем. Было бы интересней посмотреть как значения отличаются от требуемого опыта, региона и отрасли.\n",
    "\n",
    "График типа занятости и графика работы показыват, что лидирует классическая \"полная занятость + полный рабочий день\". Однако интересно, что порядка 20% занимает удаленный формат работы, что может свидетельствовать об изменении формата труда, если можно будет проследить изменения этих значений в динамике.\n",
    "\n",
    "По требуемому опыту наиболее востребованные категории — 1-3 года и 3-6 лет. Позиции с требованиями опыта более 6 лет встречаются редко, даже реже вакансий \"без опыта\". Скорее всего, специалисты с таким опытом работы, с точки зрения работодателей в большинстве случаев эквивалентны квалификации из более популярных диапазонов, а сфера, где требуется именно такой большой, крайне ограниченна.\n",
    "\n",
    "Для более глубокого анализа интересно провести сегментацию вакансий по отраслям и оценить, в каких именно областях наблюдается наибольший спрос.\n"
   ],
   "id": "4c6b364c741b66ce"
  },
  {
   "cell_type": "markdown",
   "id": "7ea20ab6-04a7-40a0-adec-443a0e5a42c3",
   "metadata": {
    "id": "7ea20ab6-04a7-40a0-adec-443a0e5a42c3"
   },
   "source": "## 5. Анализ работодателей"
  },
  {
   "cell_type": "markdown",
   "id": "968aed80-74ef-4ffb-b5bf-c65b84e9caea",
   "metadata": {
    "id": "968aed80-74ef-4ffb-b5bf-c65b84e9caea"
   },
   "source": [
    "1. Напишите запрос, который позволит узнать, какие работодатели находятся на первом и пятом месте по количеству вакансий."
   ]
  },
  {
   "cell_type": "code",
   "id": "f2d62796-d400-4ec1-a675-88112739a50e",
   "metadata": {
    "id": "f2d62796-d400-4ec1-a675-88112739a50e",
    "ExecuteTime": {
     "end_time": "2025-03-01T02:50:24.220319Z",
     "start_time": "2025-03-01T02:50:24.218086Z"
    }
   },
   "source": [
    "# текст запроса\n",
    "q_employers_top_1_5 = '''\n",
    "-- Соберем предварительную статистику, чтобы офсетом забрать 1-е и 5-е место\n",
    "WITH EmployerVacancies AS (\n",
    "    SELECT\n",
    "        e.name AS employer,\n",
    "        COUNT(v.id) AS vacancy_count\n",
    "    FROM vacancies v\n",
    "    JOIN employers e ON v.employer_id = e.id\n",
    "    GROUP BY e.name\n",
    "    ORDER BY vacancy_count DESC\n",
    ")\n",
    "SELECT employer, vacancy_count\n",
    "FROM EmployerVacancies\n",
    "WHERE vacancy_count IN (\n",
    "    (SELECT vacancy_count FROM EmployerVacancies LIMIT 1 OFFSET 0), -- 1-е место\n",
    "    (SELECT vacancy_count FROM EmployerVacancies LIMIT 1 OFFSET 4)  -- 5-е место\n",
    ");\n",
    "'''"
   ],
   "outputs": [],
   "execution_count": 88
  },
  {
   "cell_type": "code",
   "id": "64tOMkAxqkQk",
   "metadata": {
    "id": "64tOMkAxqkQk",
    "ExecuteTime": {
     "end_time": "2025-03-01T02:50:24.342804Z",
     "start_time": "2025-03-01T02:50:24.253070Z"
    }
   },
   "source": [
    "# результат запроса\n",
    "df = pd.read_sql_query(q_employers_top_1_5, connection)\n",
    "df.head()"
   ],
   "outputs": [
    {
     "data": {
      "text/plain": [
       "        employer  vacancy_count\n",
       "0         Яндекс           1933\n",
       "1  Газпром нефть            331"
      ],
      "text/html": [
       "<div>\n",
       "<style scoped>\n",
       "    .dataframe tbody tr th:only-of-type {\n",
       "        vertical-align: middle;\n",
       "    }\n",
       "\n",
       "    .dataframe tbody tr th {\n",
       "        vertical-align: top;\n",
       "    }\n",
       "\n",
       "    .dataframe thead th {\n",
       "        text-align: right;\n",
       "    }\n",
       "</style>\n",
       "<table border=\"1\" class=\"dataframe\">\n",
       "  <thead>\n",
       "    <tr style=\"text-align: right;\">\n",
       "      <th></th>\n",
       "      <th>employer</th>\n",
       "      <th>vacancy_count</th>\n",
       "    </tr>\n",
       "  </thead>\n",
       "  <tbody>\n",
       "    <tr>\n",
       "      <th>0</th>\n",
       "      <td>Яндекс</td>\n",
       "      <td>1933</td>\n",
       "    </tr>\n",
       "    <tr>\n",
       "      <th>1</th>\n",
       "      <td>Газпром нефть</td>\n",
       "      <td>331</td>\n",
       "    </tr>\n",
       "  </tbody>\n",
       "</table>\n",
       "</div>"
      ]
     },
     "execution_count": 89,
     "metadata": {},
     "output_type": "execute_result"
    }
   ],
   "execution_count": 89
  },
  {
   "metadata": {
    "ExecuteTime": {
     "end_time": "2025-03-01T02:58:46.590192Z",
     "start_time": "2025-03-01T02:58:46.500210Z"
    }
   },
   "cell_type": "code",
   "source": [
    "# посмотрим все-таки ТОП 10 компаний по количеству вакансий\n",
    "n = 10\n",
    "q_top_companies = f'''\n",
    "SELECT\n",
    "    e.name AS employer,\n",
    "    COUNT(v.id) AS vacancy_count\n",
    "FROM vacancies v\n",
    "JOIN employers e ON v.employer_id = e.id\n",
    "GROUP BY e.name\n",
    "ORDER BY vacancy_count DESC\n",
    "LIMIT {n}\n",
    "'''\n",
    "\n",
    "# результат запроса\n",
    "df = pd.read_sql_query(q_top_companies, connection)\n",
    "df.head(n)"
   ],
   "id": "f3e3fc304fcc4b8c",
   "outputs": [
    {
     "data": {
      "text/plain": [
       "                employer  vacancy_count\n",
       "0                 Яндекс           1933\n",
       "1             Ростелеком            491\n",
       "2               Тинькофф            444\n",
       "3                   СБЕР            428\n",
       "4          Газпром нефть            331\n",
       "5            ИК СИБИНТЕК            327\n",
       "6                    МТС            292\n",
       "7                DataArt            247\n",
       "8  Совкомбанк Технологии            204\n",
       "9             Первый Бит            176"
      ],
      "text/html": [
       "<div>\n",
       "<style scoped>\n",
       "    .dataframe tbody tr th:only-of-type {\n",
       "        vertical-align: middle;\n",
       "    }\n",
       "\n",
       "    .dataframe tbody tr th {\n",
       "        vertical-align: top;\n",
       "    }\n",
       "\n",
       "    .dataframe thead th {\n",
       "        text-align: right;\n",
       "    }\n",
       "</style>\n",
       "<table border=\"1\" class=\"dataframe\">\n",
       "  <thead>\n",
       "    <tr style=\"text-align: right;\">\n",
       "      <th></th>\n",
       "      <th>employer</th>\n",
       "      <th>vacancy_count</th>\n",
       "    </tr>\n",
       "  </thead>\n",
       "  <tbody>\n",
       "    <tr>\n",
       "      <th>0</th>\n",
       "      <td>Яндекс</td>\n",
       "      <td>1933</td>\n",
       "    </tr>\n",
       "    <tr>\n",
       "      <th>1</th>\n",
       "      <td>Ростелеком</td>\n",
       "      <td>491</td>\n",
       "    </tr>\n",
       "    <tr>\n",
       "      <th>2</th>\n",
       "      <td>Тинькофф</td>\n",
       "      <td>444</td>\n",
       "    </tr>\n",
       "    <tr>\n",
       "      <th>3</th>\n",
       "      <td>СБЕР</td>\n",
       "      <td>428</td>\n",
       "    </tr>\n",
       "    <tr>\n",
       "      <th>4</th>\n",
       "      <td>Газпром нефть</td>\n",
       "      <td>331</td>\n",
       "    </tr>\n",
       "    <tr>\n",
       "      <th>5</th>\n",
       "      <td>ИК СИБИНТЕК</td>\n",
       "      <td>327</td>\n",
       "    </tr>\n",
       "    <tr>\n",
       "      <th>6</th>\n",
       "      <td>МТС</td>\n",
       "      <td>292</td>\n",
       "    </tr>\n",
       "    <tr>\n",
       "      <th>7</th>\n",
       "      <td>DataArt</td>\n",
       "      <td>247</td>\n",
       "    </tr>\n",
       "    <tr>\n",
       "      <th>8</th>\n",
       "      <td>Совкомбанк Технологии</td>\n",
       "      <td>204</td>\n",
       "    </tr>\n",
       "    <tr>\n",
       "      <th>9</th>\n",
       "      <td>Первый Бит</td>\n",
       "      <td>176</td>\n",
       "    </tr>\n",
       "  </tbody>\n",
       "</table>\n",
       "</div>"
      ]
     },
     "execution_count": 104,
     "metadata": {},
     "output_type": "execute_result"
    }
   ],
   "execution_count": 104
  },
  {
   "cell_type": "markdown",
   "id": "68377cfc-b378-43dc-ab7d-1195abf2c515",
   "metadata": {
    "id": "68377cfc-b378-43dc-ab7d-1195abf2c515"
   },
   "source": [
    "2. Напишите запрос, который для каждого региона выведет количество работодателей и вакансий в нём.\n",
    "Среди регионов, в которых нет вакансий, найдите тот, в котором наибольшее количество работодателей.\n"
   ]
  },
  {
   "cell_type": "code",
   "id": "dd7df27a-e3e8-412e-a21a-5d389b71e891",
   "metadata": {
    "id": "dd7df27a-e3e8-412e-a21a-5d389b71e891",
    "ExecuteTime": {
     "end_time": "2025-03-01T03:37:59.157298Z",
     "start_time": "2025-03-01T03:37:59.086343Z"
    }
   },
   "source": [
    "# ТОП регионов по количеству работодателей и вакансий\n",
    "q_areas_employers_vacancies = '''\n",
    "-- количество employers, сгруппированных по area_id\n",
    "WITH employer_counts AS (\n",
    "    SELECT area AS area_id, COUNT(id) AS employer_count\n",
    "    FROM employers\n",
    "    GROUP BY area\n",
    "),\n",
    "-- количество vacancies, сгруппированных по area_id\n",
    "vacancy_counts AS (\n",
    "    SELECT area_id, COUNT(id) AS vacancy_count\n",
    "    FROM vacancies\n",
    "    GROUP BY area_id\n",
    "),\n",
    "-- витрина с объединенными статистиками для выборки\n",
    "region_data AS (\n",
    "    SELECT\n",
    "        a.name AS region,\n",
    "        COALESCE(ec.employer_count, 0) AS employer_count,\n",
    "        COALESCE(vc.vacancy_count, 0) AS vacancy_count\n",
    "    FROM areas a\n",
    "    LEFT JOIN employer_counts ec ON a.id = ec.area_id\n",
    "    LEFT JOIN vacancy_counts vc ON a.id = vc.area_id\n",
    ")\n",
    "-- топ 10 регионов с количеством работодателей и вакансий\n",
    "SELECT * FROM region_data\n",
    "ORDER BY vacancy_count DESC, employer_count DESC\n",
    "LIMIT 15;\n",
    "'''\n",
    "\n",
    "df_all = pd.read_sql_query(q_areas_employers_vacancies, connection)\n",
    "df_all\n"
   ],
   "outputs": [
    {
     "data": {
      "text/plain": [
       "             region  employer_count  vacancy_count\n",
       "0            Москва            5864           5333\n",
       "1   Санкт-Петербург            2217           2851\n",
       "2             Минск            1115           2112\n",
       "3       Новосибирск             573           2006\n",
       "4            Алматы             721           1892\n",
       "5      Екатеринбург             609           1698\n",
       "6   Нижний Новгород             426           1670\n",
       "7            Казань             480           1415\n",
       "8         Краснодар             409           1301\n",
       "9            Самара             315           1144\n",
       "10   Ростов-на-Дону             335           1131\n",
       "11          Воронеж             292           1063\n",
       "12          Ташкент             326            851\n",
       "13       Красноярск             331            847\n",
       "14       Нур-Султан             312            840"
      ],
      "text/html": [
       "<div>\n",
       "<style scoped>\n",
       "    .dataframe tbody tr th:only-of-type {\n",
       "        vertical-align: middle;\n",
       "    }\n",
       "\n",
       "    .dataframe tbody tr th {\n",
       "        vertical-align: top;\n",
       "    }\n",
       "\n",
       "    .dataframe thead th {\n",
       "        text-align: right;\n",
       "    }\n",
       "</style>\n",
       "<table border=\"1\" class=\"dataframe\">\n",
       "  <thead>\n",
       "    <tr style=\"text-align: right;\">\n",
       "      <th></th>\n",
       "      <th>region</th>\n",
       "      <th>employer_count</th>\n",
       "      <th>vacancy_count</th>\n",
       "    </tr>\n",
       "  </thead>\n",
       "  <tbody>\n",
       "    <tr>\n",
       "      <th>0</th>\n",
       "      <td>Москва</td>\n",
       "      <td>5864</td>\n",
       "      <td>5333</td>\n",
       "    </tr>\n",
       "    <tr>\n",
       "      <th>1</th>\n",
       "      <td>Санкт-Петербург</td>\n",
       "      <td>2217</td>\n",
       "      <td>2851</td>\n",
       "    </tr>\n",
       "    <tr>\n",
       "      <th>2</th>\n",
       "      <td>Минск</td>\n",
       "      <td>1115</td>\n",
       "      <td>2112</td>\n",
       "    </tr>\n",
       "    <tr>\n",
       "      <th>3</th>\n",
       "      <td>Новосибирск</td>\n",
       "      <td>573</td>\n",
       "      <td>2006</td>\n",
       "    </tr>\n",
       "    <tr>\n",
       "      <th>4</th>\n",
       "      <td>Алматы</td>\n",
       "      <td>721</td>\n",
       "      <td>1892</td>\n",
       "    </tr>\n",
       "    <tr>\n",
       "      <th>5</th>\n",
       "      <td>Екатеринбург</td>\n",
       "      <td>609</td>\n",
       "      <td>1698</td>\n",
       "    </tr>\n",
       "    <tr>\n",
       "      <th>6</th>\n",
       "      <td>Нижний Новгород</td>\n",
       "      <td>426</td>\n",
       "      <td>1670</td>\n",
       "    </tr>\n",
       "    <tr>\n",
       "      <th>7</th>\n",
       "      <td>Казань</td>\n",
       "      <td>480</td>\n",
       "      <td>1415</td>\n",
       "    </tr>\n",
       "    <tr>\n",
       "      <th>8</th>\n",
       "      <td>Краснодар</td>\n",
       "      <td>409</td>\n",
       "      <td>1301</td>\n",
       "    </tr>\n",
       "    <tr>\n",
       "      <th>9</th>\n",
       "      <td>Самара</td>\n",
       "      <td>315</td>\n",
       "      <td>1144</td>\n",
       "    </tr>\n",
       "    <tr>\n",
       "      <th>10</th>\n",
       "      <td>Ростов-на-Дону</td>\n",
       "      <td>335</td>\n",
       "      <td>1131</td>\n",
       "    </tr>\n",
       "    <tr>\n",
       "      <th>11</th>\n",
       "      <td>Воронеж</td>\n",
       "      <td>292</td>\n",
       "      <td>1063</td>\n",
       "    </tr>\n",
       "    <tr>\n",
       "      <th>12</th>\n",
       "      <td>Ташкент</td>\n",
       "      <td>326</td>\n",
       "      <td>851</td>\n",
       "    </tr>\n",
       "    <tr>\n",
       "      <th>13</th>\n",
       "      <td>Красноярск</td>\n",
       "      <td>331</td>\n",
       "      <td>847</td>\n",
       "    </tr>\n",
       "    <tr>\n",
       "      <th>14</th>\n",
       "      <td>Нур-Султан</td>\n",
       "      <td>312</td>\n",
       "      <td>840</td>\n",
       "    </tr>\n",
       "  </tbody>\n",
       "</table>\n",
       "</div>"
      ]
     },
     "execution_count": 136,
     "metadata": {},
     "output_type": "execute_result"
    }
   ],
   "execution_count": 136
  },
  {
   "metadata": {
    "ExecuteTime": {
     "end_time": "2025-03-01T03:40:24.081958Z",
     "start_time": "2025-03-01T03:40:23.873413Z"
    }
   },
   "cell_type": "code",
   "source": [
    "df_all[\"prop\"] = df_all[\"vacancy_count\"] / df_all[\"employer_count\"]\n",
    "# Строим горизонтальную столбчатую диаграмму для пропорции\n",
    "fig, ax = plt.subplots(figsize=(9, 6))\n",
    "bars = ax.barh(df_all[\"region\"], df_all[\"prop\"], color=\"blue\")\n",
    "\n",
    "# Подписываем значения на графике\n",
    "for bar in bars:\n",
    "    width = bar.get_width()\n",
    "    ax.text(width + 0.02, bar.get_y() + bar.get_height()/2, f\"{width:.2f}\", ha='left', va='center', fontsize=10)\n",
    "\n",
    "# Подписываем оси\n",
    "ax.set_xlabel(\"Пропорция вакансий к работодателям\", fontsize=12)\n",
    "ax.set_ylabel(\"Регион\", fontsize=12)\n",
    "ax.set_title(\"Соотношение вакансий к числу работодателей в регионах\", fontsize=14)\n",
    "\n",
    "# Убираем рамку сверху и справа\n",
    "ax.spines['top'].set_visible(False)\n",
    "ax.spines['right'].set_visible(False)\n",
    "\n",
    "# Отображаем график\n",
    "plt.show()"
   ],
   "id": "21fe17500dd02ccf",
   "outputs": [
    {
     "data": {
      "text/plain": [
       "<Figure size 900x600 with 1 Axes>"
      ],
      "image/png": "[encoded data removed]"
     },
     "metadata": {},
     "output_type": "display_data"
    }
   ],
   "execution_count": 138
  },
  {
   "cell_type": "code",
   "id": "x1ikWbydrbf6",
   "metadata": {
    "id": "x1ikWbydrbf6",
    "ExecuteTime": {
     "end_time": "2025-03-01T03:41:27.452849Z",
     "start_time": "2025-03-01T03:41:27.367285Z"
    }
   },
   "source": [
    "q_area_no_vacancies_max_employers = '''\n",
    "SELECT a.name AS area, COUNT(DISTINCT e.id) AS employer_count\n",
    "FROM areas a\n",
    "LEFT JOIN employers e ON a.id = e.area\n",
    "LEFT JOIN vacancies v ON a.id = v.area_id\n",
    "WHERE v.id IS NULL\n",
    "GROUP BY a.name\n",
    "ORDER BY employer_count DESC\n",
    "LIMIT 1;\n",
    "'''\n",
    "\n",
    "# результат запроса\n",
    "df = pd.read_sql_query(q_area_no_vacancies_max_employers, connection)\n",
    "df.head()"
   ],
   "outputs": [
    {
     "data": {
      "text/plain": [
       "     area  employer_count\n",
       "0  Россия             410"
      ],
      "text/html": [
       "<div>\n",
       "<style scoped>\n",
       "    .dataframe tbody tr th:only-of-type {\n",
       "        vertical-align: middle;\n",
       "    }\n",
       "\n",
       "    .dataframe tbody tr th {\n",
       "        vertical-align: top;\n",
       "    }\n",
       "\n",
       "    .dataframe thead th {\n",
       "        text-align: right;\n",
       "    }\n",
       "</style>\n",
       "<table border=\"1\" class=\"dataframe\">\n",
       "  <thead>\n",
       "    <tr style=\"text-align: right;\">\n",
       "      <th></th>\n",
       "      <th>area</th>\n",
       "      <th>employer_count</th>\n",
       "    </tr>\n",
       "  </thead>\n",
       "  <tbody>\n",
       "    <tr>\n",
       "      <th>0</th>\n",
       "      <td>Россия</td>\n",
       "      <td>410</td>\n",
       "    </tr>\n",
       "  </tbody>\n",
       "</table>\n",
       "</div>"
      ]
     },
     "execution_count": 139,
     "metadata": {},
     "output_type": "execute_result"
    }
   ],
   "execution_count": 139
  },
  {
   "cell_type": "markdown",
   "id": "f2fe0acb-ab1a-4e15-9326-2560e22d73c1",
   "metadata": {
    "id": "f2fe0acb-ab1a-4e15-9326-2560e22d73c1"
   },
   "source": [
    "3. Для каждого работодателя посчитайте количество регионов, в которых он публикует свои вакансии. Отсортируйте результат по убыванию количества.\n"
   ]
  },
  {
   "cell_type": "code",
   "id": "6271f8ad-bd2e-4196-ae4a-5b39c4c1010e",
   "metadata": {
    "id": "6271f8ad-bd2e-4196-ae4a-5b39c4c1010e",
    "ExecuteTime": {
     "end_time": "2025-03-01T03:06:47.665358Z",
     "start_time": "2025-03-01T03:06:47.661465Z"
    }
   },
   "source": [
    "# текст запроса\n",
    "q_employers_areas_count = '''\n",
    "SELECT\n",
    "    e.name AS employer,\n",
    "    COUNT(DISTINCT v.area_id) AS region_count\n",
    "FROM employers e\n",
    "JOIN vacancies v ON e.id = v.employer_id\n",
    "GROUP BY e.name\n",
    "ORDER BY region_count DESC;\n",
    "'''\n"
   ],
   "outputs": [],
   "execution_count": 110
  },
  {
   "cell_type": "code",
   "id": "1EIvX3HasH4F",
   "metadata": {
    "id": "1EIvX3HasH4F",
    "ExecuteTime": {
     "end_time": "2025-03-01T03:06:51.649514Z",
     "start_time": "2025-03-01T03:06:51.029860Z"
    }
   },
   "source": [
    "# результат запроса\n",
    "df = pd.read_sql_query(q_employers_areas_count, connection)\n",
    "df.head()"
   ],
   "outputs": [
    {
     "data": {
      "text/plain": [
       "                 employer  region_count\n",
       "0                  Яндекс           181\n",
       "1              Ростелеком           152\n",
       "2              Спецремонт           116\n",
       "3  Поляков Денис Иванович            88\n",
       "4               ООО ЕФИН             71"
      ],
      "text/html": [
       "<div>\n",
       "<style scoped>\n",
       "    .dataframe tbody tr th:only-of-type {\n",
       "        vertical-align: middle;\n",
       "    }\n",
       "\n",
       "    .dataframe tbody tr th {\n",
       "        vertical-align: top;\n",
       "    }\n",
       "\n",
       "    .dataframe thead th {\n",
       "        text-align: right;\n",
       "    }\n",
       "</style>\n",
       "<table border=\"1\" class=\"dataframe\">\n",
       "  <thead>\n",
       "    <tr style=\"text-align: right;\">\n",
       "      <th></th>\n",
       "      <th>employer</th>\n",
       "      <th>region_count</th>\n",
       "    </tr>\n",
       "  </thead>\n",
       "  <tbody>\n",
       "    <tr>\n",
       "      <th>0</th>\n",
       "      <td>Яндекс</td>\n",
       "      <td>181</td>\n",
       "    </tr>\n",
       "    <tr>\n",
       "      <th>1</th>\n",
       "      <td>Ростелеком</td>\n",
       "      <td>152</td>\n",
       "    </tr>\n",
       "    <tr>\n",
       "      <th>2</th>\n",
       "      <td>Спецремонт</td>\n",
       "      <td>116</td>\n",
       "    </tr>\n",
       "    <tr>\n",
       "      <th>3</th>\n",
       "      <td>Поляков Денис Иванович</td>\n",
       "      <td>88</td>\n",
       "    </tr>\n",
       "    <tr>\n",
       "      <th>4</th>\n",
       "      <td>ООО ЕФИН</td>\n",
       "      <td>71</td>\n",
       "    </tr>\n",
       "  </tbody>\n",
       "</table>\n",
       "</div>"
      ]
     },
     "execution_count": 111,
     "metadata": {},
     "output_type": "execute_result"
    }
   ],
   "execution_count": 111
  },
  {
   "cell_type": "markdown",
   "id": "eab2206d-d95b-468b-8e5f-34381abf0ce7",
   "metadata": {
    "id": "eab2206d-d95b-468b-8e5f-34381abf0ce7"
   },
   "source": [
    "4. Напишите запрос для подсчёта количества работодателей, у которых не указана сфера деятельности."
   ]
  },
  {
   "cell_type": "code",
   "id": "80defb23-bfb1-4a18-8be6-bf36aa7165d5",
   "metadata": {
    "id": "80defb23-bfb1-4a18-8be6-bf36aa7165d5",
    "ExecuteTime": {
     "end_time": "2025-03-01T02:50:25.043645Z",
     "start_time": "2025-03-01T02:46:28.985732Z"
    }
   },
   "source": [
    "# текст запроса\n",
    "q_employers_no_industry = '''\n",
    "SELECT COUNT(*) AS employer_count\n",
    "FROM employers e\n",
    "LEFT JOIN employers_industries ei ON e.id = ei.employer_id\n",
    "WHERE ei.industry_id IS NULL;\n",
    "'''"
   ],
   "outputs": [],
   "execution_count": 35
  },
  {
   "cell_type": "code",
   "id": "Dp_yCx6ysQSu",
   "metadata": {
    "id": "Dp_yCx6ysQSu",
    "ExecuteTime": {
     "end_time": "2025-03-01T02:50:25.072472Z",
     "start_time": "2025-03-01T02:46:29.077762Z"
    }
   },
   "source": [
    "# результат запроса\n",
    "df = pd.read_sql_query(q_employers_no_industry, connection)\n",
    "df.head()"
   ],
   "outputs": [
    {
     "data": {
      "text/plain": [
       "   employer_count\n",
       "0            8419"
      ],
      "text/html": [
       "<div>\n",
       "<style scoped>\n",
       "    .dataframe tbody tr th:only-of-type {\n",
       "        vertical-align: middle;\n",
       "    }\n",
       "\n",
       "    .dataframe tbody tr th {\n",
       "        vertical-align: top;\n",
       "    }\n",
       "\n",
       "    .dataframe thead th {\n",
       "        text-align: right;\n",
       "    }\n",
       "</style>\n",
       "<table border=\"1\" class=\"dataframe\">\n",
       "  <thead>\n",
       "    <tr style=\"text-align: right;\">\n",
       "      <th></th>\n",
       "      <th>employer_count</th>\n",
       "    </tr>\n",
       "  </thead>\n",
       "  <tbody>\n",
       "    <tr>\n",
       "      <th>0</th>\n",
       "      <td>8419</td>\n",
       "    </tr>\n",
       "  </tbody>\n",
       "</table>\n",
       "</div>"
      ]
     },
     "execution_count": 36,
     "metadata": {},
     "output_type": "execute_result"
    }
   ],
   "execution_count": 36
  },
  {
   "cell_type": "markdown",
   "id": "0112af31-f6b0-4e3b-82ab-71296e752e5e",
   "metadata": {
    "id": "0112af31-f6b0-4e3b-82ab-71296e752e5e"
   },
   "source": [
    "5. Напишите запрос, чтобы узнать название компании, находящейся на третьем месте в алфавитном списке (по названию) компаний, у которых указано четыре сферы деятельности."
   ]
  },
  {
   "cell_type": "code",
   "id": "973b0cfc-a972-470a-8b4a-68744ef220c4",
   "metadata": {
    "id": "973b0cfc-a972-470a-8b4a-68744ef220c4",
    "ExecuteTime": {
     "end_time": "2025-03-01T02:50:25.073057Z",
     "start_time": "2025-03-01T02:46:29.257881Z"
    }
   },
   "source": [
    "# текст запроса\n",
    "q_employer_4_industries = '''\n",
    "SELECT e.name\n",
    "FROM employers e\n",
    "JOIN employers_industries ei ON e.id = ei.employer_id\n",
    "GROUP BY e.name\n",
    "HAVING COUNT(ei.industry_id) = 4\n",
    "ORDER BY e.name\n",
    "LIMIT 1 OFFSET 2;\n",
    "'''"
   ],
   "outputs": [],
   "execution_count": 37
  },
  {
   "cell_type": "code",
   "id": "xsPtpp8EsaED",
   "metadata": {
    "id": "xsPtpp8EsaED",
    "ExecuteTime": {
     "end_time": "2025-03-01T02:50:25.073267Z",
     "start_time": "2025-03-01T02:46:29.384795Z"
    }
   },
   "source": [
    "# результат запроса\n",
    "df = pd.read_sql_query(q_employer_4_industries, connection)\n",
    "df.head()"
   ],
   "outputs": [
    {
     "data": {
      "text/plain": [
       "   name\n",
       "0  2ГИС"
      ],
      "text/html": [
       "<div>\n",
       "<style scoped>\n",
       "    .dataframe tbody tr th:only-of-type {\n",
       "        vertical-align: middle;\n",
       "    }\n",
       "\n",
       "    .dataframe tbody tr th {\n",
       "        vertical-align: top;\n",
       "    }\n",
       "\n",
       "    .dataframe thead th {\n",
       "        text-align: right;\n",
       "    }\n",
       "</style>\n",
       "<table border=\"1\" class=\"dataframe\">\n",
       "  <thead>\n",
       "    <tr style=\"text-align: right;\">\n",
       "      <th></th>\n",
       "      <th>name</th>\n",
       "    </tr>\n",
       "  </thead>\n",
       "  <tbody>\n",
       "    <tr>\n",
       "      <th>0</th>\n",
       "      <td>2ГИС</td>\n",
       "    </tr>\n",
       "  </tbody>\n",
       "</table>\n",
       "</div>"
      ]
     },
     "execution_count": 38,
     "metadata": {},
     "output_type": "execute_result"
    }
   ],
   "execution_count": 38
  },
  {
   "cell_type": "markdown",
   "id": "3bfcfdaf-755d-4d2b-8ed8-326201dc07ab",
   "metadata": {
    "id": "3bfcfdaf-755d-4d2b-8ed8-326201dc07ab"
   },
   "source": [
    "6. С помощью запроса выясните, у какого количества работодателей в качестве сферы деятельности указана «Разработка программного обеспечения».\n"
   ]
  },
  {
   "cell_type": "code",
   "id": "ad3f270f-2991-47eb-929b-e8f88a55b0d1",
   "metadata": {
    "id": "ad3f270f-2991-47eb-929b-e8f88a55b0d1",
    "ExecuteTime": {
     "end_time": "2025-03-01T02:50:25.079860Z",
     "start_time": "2025-03-01T02:46:29.546975Z"
    }
   },
   "source": [
    "# текст запроса\n",
    "q_employers_from_dev_cnt = '''\n",
    "SELECT COUNT(DISTINCT ei.employer_id) AS employer_count\n",
    "FROM employers_industries ei\n",
    "JOIN industries i ON ei.industry_id = i.id\n",
    "WHERE i.name = 'Разработка программного обеспечения';\n",
    "'''"
   ],
   "outputs": [],
   "execution_count": 39
  },
  {
   "cell_type": "code",
   "id": "H72qxWM0shPR",
   "metadata": {
    "id": "H72qxWM0shPR",
    "ExecuteTime": {
     "end_time": "2025-03-01T02:50:25.080229Z",
     "start_time": "2025-03-01T02:46:29.623383Z"
    }
   },
   "source": [
    "# результат запроса\n",
    "df = pd.read_sql_query(q_employers_from_dev_cnt, connection)\n",
    "df.head()"
   ],
   "outputs": [
    {
     "data": {
      "text/plain": [
       "   employer_count\n",
       "0            3553"
      ],
      "text/html": [
       "<div>\n",
       "<style scoped>\n",
       "    .dataframe tbody tr th:only-of-type {\n",
       "        vertical-align: middle;\n",
       "    }\n",
       "\n",
       "    .dataframe tbody tr th {\n",
       "        vertical-align: top;\n",
       "    }\n",
       "\n",
       "    .dataframe thead th {\n",
       "        text-align: right;\n",
       "    }\n",
       "</style>\n",
       "<table border=\"1\" class=\"dataframe\">\n",
       "  <thead>\n",
       "    <tr style=\"text-align: right;\">\n",
       "      <th></th>\n",
       "      <th>employer_count</th>\n",
       "    </tr>\n",
       "  </thead>\n",
       "  <tbody>\n",
       "    <tr>\n",
       "      <th>0</th>\n",
       "      <td>3553</td>\n",
       "    </tr>\n",
       "  </tbody>\n",
       "</table>\n",
       "</div>"
      ]
     },
     "execution_count": 40,
     "metadata": {},
     "output_type": "execute_result"
    }
   ],
   "execution_count": 40
  },
  {
   "cell_type": "markdown",
   "id": "c893936b",
   "metadata": {},
   "source": [
    "7. Для компании «Яндекс» выведите список [городов-миллионников](https://ru.wikipedia.org/wiki/%D0%93%D0%BE%D1%80%D0%BE%D0%B4%D0%B0-%D0%BC%D0%B8%D0%BB%D0%BB%D0%B8%D0%BE%D0%BD%D0%B5%D1%80%D1%8B_%D0%A0%D0%BE%D1%81%D1%81%D0%B8%D0%B8), в которых представлены вакансии компании, вместе с количеством вакансий в этих регионах. Также добавьте строку \"Total\" с общим количеством вакансий компании. Результат отсортируйте по возрастанию количества.\n",
    "\n",
    "    Если возникнут трудности с этим заданием, посмотрите материалы модуля 6.4 «Как получать данные из веб-источников и API»."
   ]
  },
  {
   "cell_type": "code",
   "id": "ZdfrL6gIs1Pn",
   "metadata": {
    "id": "ZdfrL6gIs1Pn",
    "ExecuteTime": {
     "end_time": "2025-03-01T03:12:39.314107Z",
     "start_time": "2025-03-01T03:12:38.803355Z"
    }
   },
   "source": [
    "# код для получения списка городов-милионников\n",
    "import requests\n",
    "from bs4 import BeautifulSoup\n",
    "\n",
    "# получение списка городов-милионников с Wikipedia\n",
    "res = requests.get('https://ru.wikipedia.org/wiki/Города-миллионеры_России')\n",
    "page=BeautifulSoup(res.text, 'html.parser')\n",
    "\n",
    "# извлечение городов из таблицы на странице\n",
    "cities_raw = str(page.find('table', class_=\"standard\")).split('title=\"')[3:]\n",
    "cities=[]\n",
    "\n",
    "# извлечение городов из текста\n",
    "for el in cities_raw:\n",
    "    cities.append(el.split('\">')[0])\n",
    "\n",
    "tuple(cities)"
   ],
   "outputs": [
    {
     "data": {
      "text/plain": [
       "('Москва',\n",
       " 'Санкт-Петербург',\n",
       " 'Новосибирск',\n",
       " 'Екатеринбург',\n",
       " 'Казань',\n",
       " 'Красноярск',\n",
       " 'Нижний Новгород',\n",
       " 'Челябинск',\n",
       " 'Уфа',\n",
       " 'Самара',\n",
       " 'Ростов-на-Дону',\n",
       " 'Краснодар',\n",
       " 'Омск',\n",
       " 'Воронеж',\n",
       " 'Пермь',\n",
       " 'Волгоград')"
      ]
     },
     "execution_count": 115,
     "metadata": {},
     "output_type": "execute_result"
    }
   ],
   "execution_count": 115
  },
  {
   "cell_type": "code",
   "id": "5a0e32a4-e68a-4365-8a39-2fe24c542c36",
   "metadata": {
    "id": "5a0e32a4-e68a-4365-8a39-2fe24c542c36",
    "ExecuteTime": {
     "end_time": "2025-03-01T03:22:08.372191Z",
     "start_time": "2025-03-01T03:22:08.370031Z"
    }
   },
   "source": [
    "# текст запроса\n",
    "q_yandex = f'''\n",
    "\n",
    "-- Подсчет статистики вакансий для Яндекса в cities\n",
    "WITH YandexVacancies AS (\n",
    "    SELECT\n",
    "        a.name AS city,\n",
    "        COUNT(v.id) AS vacancy_count\n",
    "    FROM vacancies v\n",
    "    JOIN employers e ON v.employer_id = e.id\n",
    "    JOIN areas a ON v.area_id = a.id\n",
    "    WHERE e.name = 'Яндекс'\n",
    "        AND a.name IN {tuple(cities)}\n",
    "    GROUP BY a.name\n",
    ")\n",
    "\n",
    "-- Выбираем по городам\n",
    "SELECT city, vacancy_count FROM YandexVacancies\n",
    "\n",
    "-- Добавляем Total в конец результата\n",
    "UNION ALL\n",
    "\n",
    "-- Суммируем для Total, чтобы вывести общее количество вакансий Яндекса\n",
    "SELECT 'Total', SUM(vacancy_count) FROM YandexVacancies\n",
    "ORDER BY vacancy_count ASC;\n",
    "'''"
   ],
   "outputs": [],
   "execution_count": 126
  },
  {
   "cell_type": "code",
   "id": "ttPhiO1rsvPq",
   "metadata": {
    "id": "ttPhiO1rsvPq",
    "ExecuteTime": {
     "end_time": "2025-03-01T03:22:09.721680Z",
     "start_time": "2025-03-01T03:22:09.462080Z"
    }
   },
   "source": [
    "# результат запроса\n",
    "df = pd.read_sql_query(q_yandex, connection)\n",
    "df"
   ],
   "outputs": [
    {
     "data": {
      "text/plain": [
       "               city  vacancy_count\n",
       "0              Омск           21.0\n",
       "1         Челябинск           22.0\n",
       "2        Красноярск           23.0\n",
       "3         Волгоград           24.0\n",
       "4             Пермь           25.0\n",
       "5            Казань           25.0\n",
       "6    Ростов-на-Дону           25.0\n",
       "7            Самара           26.0\n",
       "8               Уфа           26.0\n",
       "9         Краснодар           30.0\n",
       "10          Воронеж           32.0\n",
       "11      Новосибирск           35.0\n",
       "12  Нижний Новгород           36.0\n",
       "13     Екатеринбург           39.0\n",
       "14  Санкт-Петербург           42.0\n",
       "15           Москва           54.0\n",
       "16            Total          485.0"
      ],
      "text/html": [
       "<div>\n",
       "<style scoped>\n",
       "    .dataframe tbody tr th:only-of-type {\n",
       "        vertical-align: middle;\n",
       "    }\n",
       "\n",
       "    .dataframe tbody tr th {\n",
       "        vertical-align: top;\n",
       "    }\n",
       "\n",
       "    .dataframe thead th {\n",
       "        text-align: right;\n",
       "    }\n",
       "</style>\n",
       "<table border=\"1\" class=\"dataframe\">\n",
       "  <thead>\n",
       "    <tr style=\"text-align: right;\">\n",
       "      <th></th>\n",
       "      <th>city</th>\n",
       "      <th>vacancy_count</th>\n",
       "    </tr>\n",
       "  </thead>\n",
       "  <tbody>\n",
       "    <tr>\n",
       "      <th>0</th>\n",
       "      <td>Омск</td>\n",
       "      <td>21.0</td>\n",
       "    </tr>\n",
       "    <tr>\n",
       "      <th>1</th>\n",
       "      <td>Челябинск</td>\n",
       "      <td>22.0</td>\n",
       "    </tr>\n",
       "    <tr>\n",
       "      <th>2</th>\n",
       "      <td>Красноярск</td>\n",
       "      <td>23.0</td>\n",
       "    </tr>\n",
       "    <tr>\n",
       "      <th>3</th>\n",
       "      <td>Волгоград</td>\n",
       "      <td>24.0</td>\n",
       "    </tr>\n",
       "    <tr>\n",
       "      <th>4</th>\n",
       "      <td>Пермь</td>\n",
       "      <td>25.0</td>\n",
       "    </tr>\n",
       "    <tr>\n",
       "      <th>5</th>\n",
       "      <td>Казань</td>\n",
       "      <td>25.0</td>\n",
       "    </tr>\n",
       "    <tr>\n",
       "      <th>6</th>\n",
       "      <td>Ростов-на-Дону</td>\n",
       "      <td>25.0</td>\n",
       "    </tr>\n",
       "    <tr>\n",
       "      <th>7</th>\n",
       "      <td>Самара</td>\n",
       "      <td>26.0</td>\n",
       "    </tr>\n",
       "    <tr>\n",
       "      <th>8</th>\n",
       "      <td>Уфа</td>\n",
       "      <td>26.0</td>\n",
       "    </tr>\n",
       "    <tr>\n",
       "      <th>9</th>\n",
       "      <td>Краснодар</td>\n",
       "      <td>30.0</td>\n",
       "    </tr>\n",
       "    <tr>\n",
       "      <th>10</th>\n",
       "      <td>Воронеж</td>\n",
       "      <td>32.0</td>\n",
       "    </tr>\n",
       "    <tr>\n",
       "      <th>11</th>\n",
       "      <td>Новосибирск</td>\n",
       "      <td>35.0</td>\n",
       "    </tr>\n",
       "    <tr>\n",
       "      <th>12</th>\n",
       "      <td>Нижний Новгород</td>\n",
       "      <td>36.0</td>\n",
       "    </tr>\n",
       "    <tr>\n",
       "      <th>13</th>\n",
       "      <td>Екатеринбург</td>\n",
       "      <td>39.0</td>\n",
       "    </tr>\n",
       "    <tr>\n",
       "      <th>14</th>\n",
       "      <td>Санкт-Петербург</td>\n",
       "      <td>42.0</td>\n",
       "    </tr>\n",
       "    <tr>\n",
       "      <th>15</th>\n",
       "      <td>Москва</td>\n",
       "      <td>54.0</td>\n",
       "    </tr>\n",
       "    <tr>\n",
       "      <th>16</th>\n",
       "      <td>Total</td>\n",
       "      <td>485.0</td>\n",
       "    </tr>\n",
       "  </tbody>\n",
       "</table>\n",
       "</div>"
      ]
     },
     "execution_count": 127,
     "metadata": {},
     "output_type": "execute_result"
    }
   ],
   "execution_count": 127
  },
  {
   "cell_type": "markdown",
   "id": "04966e40-3bc3-4dc8-9ba2-e80580ce3abc",
   "metadata": {
    "id": "04966e40-3bc3-4dc8-9ba2-e80580ce3abc"
   },
   "source": [
    "***"
   ]
  },
  {
   "cell_type": "code",
   "id": "aGGyER-yt4SR",
   "metadata": {
    "id": "aGGyER-yt4SR",
    "ExecuteTime": {
     "end_time": "2025-03-01T02:50:25.082696Z",
     "start_time": "2025-03-01T02:46:30.137529Z"
    }
   },
   "source": "# выводы по анализу работодателей",
   "outputs": [],
   "execution_count": 44
  },
  {
   "metadata": {},
   "cell_type": "markdown",
   "source": [
    "Ожидаемо, крупные корпорации, такие как \"Яндекс\", \"Ростелеком\", \"Тинькофф\" и прочие значительно опережают других работодателей по числу вакансий. Это отражает не только масштаб их деятельности, но и высокую потребность в новых сотрудниках.\n",
    "\n",
    "Интересная таблица по ТОПу 15 регионов по количеству работодателей и вакансий. Если построить график пропорции количества вакансий к количеству работодателей, то видно, что пропорция отличается в разы от региона к региону. В Москве, например, из ТОП 15 городов по вакансиям, вообще самая низкая пропорция. Там на одну компанию приходится 0.91 вакансий. Такая картина может свидетельствовать о том, что в некоторых регионах часть позиций могут стабильно размещать на других площадках. Тут есть зона для дополнительного исследования, например сделать разбивку в резрезе регион/должность.\n",
    "\n",
    "Анализ вакансий «Яндекса» в городах-миллионниках показывает, что компания представлена во всех городах-миллионниках, либо же активно нанимает на \"удаленку\" во всех регионах по России. Здесь можно посмотреть на долю вакансий с удаленной занятостью."
   ],
   "id": "f40d8e95030579f2"
  },
  {
   "cell_type": "markdown",
   "id": "b1ef156a-efcb-49ce-bb23-90763e7f35b2",
   "metadata": {
    "id": "b1ef156a-efcb-49ce-bb23-90763e7f35b2",
    "tags": []
   },
   "source": [
    "## 6. Предметный анализ"
   ]
  },
  {
   "cell_type": "markdown",
   "id": "b9cd50a0-992d-4988-8463-2b2b1c4629b4",
   "metadata": {
    "id": "b9cd50a0-992d-4988-8463-2b2b1c4629b4"
   },
   "source": [
    "1. Сколько вакансий имеет отношение к данным?\n",
    "\n",
    "    Считаем, что вакансия имеет отношение к данным, если в её названии содержатся слова `'data'` или `'данн'`.\n",
    "\n",
    "    *Обратите внимание, что названия вакансий могут быть написаны в любом регистре.*\n"
   ]
  },
  {
   "cell_type": "code",
   "id": "54ab0e50-c0f1-47cc-a54b-bc5c8bc363f9",
   "metadata": {
    "id": "54ab0e50-c0f1-47cc-a54b-bc5c8bc363f9",
    "ExecuteTime": {
     "end_time": "2025-03-01T03:52:42.293543Z",
     "start_time": "2025-03-01T03:52:42.288601Z"
    }
   },
   "source": [
    "# текст запроса\n",
    "q_relation_to_data = f'''\n",
    "SELECT COUNT(*) AS vacancy_count\n",
    "FROM vacancies\n",
    "WHERE name ILIKE '%data%' OR name ILIKE '%данн%';\n",
    "'''"
   ],
   "outputs": [],
   "execution_count": 151
  },
  {
   "cell_type": "code",
   "id": "9F1meAqsuUjd",
   "metadata": {
    "id": "9F1meAqsuUjd",
    "ExecuteTime": {
     "end_time": "2025-03-01T03:52:43.863373Z",
     "start_time": "2025-03-01T03:52:43.707519Z"
    }
   },
   "source": [
    "# результат запроса\n",
    "df = pd.read_sql_query(q_relation_to_data, connection)\n",
    "df.head()"
   ],
   "outputs": [
    {
     "data": {
      "text/plain": [
       "   vacancy_count\n",
       "0           1771"
      ],
      "text/html": [
       "<div>\n",
       "<style scoped>\n",
       "    .dataframe tbody tr th:only-of-type {\n",
       "        vertical-align: middle;\n",
       "    }\n",
       "\n",
       "    .dataframe tbody tr th {\n",
       "        vertical-align: top;\n",
       "    }\n",
       "\n",
       "    .dataframe thead th {\n",
       "        text-align: right;\n",
       "    }\n",
       "</style>\n",
       "<table border=\"1\" class=\"dataframe\">\n",
       "  <thead>\n",
       "    <tr style=\"text-align: right;\">\n",
       "      <th></th>\n",
       "      <th>vacancy_count</th>\n",
       "    </tr>\n",
       "  </thead>\n",
       "  <tbody>\n",
       "    <tr>\n",
       "      <th>0</th>\n",
       "      <td>1771</td>\n",
       "    </tr>\n",
       "  </tbody>\n",
       "</table>\n",
       "</div>"
      ]
     },
     "execution_count": 152,
     "metadata": {},
     "output_type": "execute_result"
    }
   ],
   "execution_count": 152
  },
  {
   "cell_type": "markdown",
   "id": "4dea20cb-a36b-474a-a0b9-e08e8e3857a5",
   "metadata": {
    "id": "4dea20cb-a36b-474a-a0b9-e08e8e3857a5"
   },
   "source": [
    "2. Сколько есть подходящих вакансий для начинающего дата-сайентиста? Будем считать вакансиями для дата-сайентистов такие, в названии которых есть хотя бы одно из следующих сочетаний:\n",
    "    * 'data scientist'\n",
    "    * 'data science'\n",
    "    * 'исследователь данных'\n",
    "    * 'ML' (здесь не нужно брать вакансии по HTML)\n",
    "    * 'machine learning'\n",
    "    * 'машинн%обучен%'\n",
    "\n",
    "    **В следующих заданиях мы продолжим работать с вакансиями по этому условию.**\n",
    "\n",
    "    Считаем вакансиями для специалистов уровня Junior следующие:\n",
    "    + в названии есть слово “junior” **или**\n",
    "    + требуемый опыт — «Нет опыта» **или**\n",
    "    + тип трудоустройства — «Стажировка».\n"
   ]
  },
  {
   "cell_type": "code",
   "id": "9c61b3c0-bb66-46c9-ae1e-81d3f5752b4a",
   "metadata": {
    "id": "9c61b3c0-bb66-46c9-ae1e-81d3f5752b4a",
    "ExecuteTime": {
     "end_time": "2025-03-01T03:52:14.026142Z",
     "start_time": "2025-03-01T03:52:14.021249Z"
    }
   },
   "source": [
    "# текст запроса\n",
    "q_affordable_junior_vacancies = f'''\n",
    "SELECT COUNT(*) AS junior_ds_vacancy_count\n",
    "FROM vacancies\n",
    "WHERE\n",
    "   -- Все, что связано с DS и ML\n",
    "   (\n",
    "      name ILIKE '%data scientist%'\n",
    "      OR name ILIKE '%data science%'\n",
    "      OR name ILIKE '%исследователь данных%'\n",
    "      OR (\n",
    "         name ILIKE '%ML%' AND name NOT ILIKE '%html%'\n",
    "      )\n",
    "      OR name ILIKE '%machine learning%'\n",
    "      OR name ILIKE '%машинн%обучен%'\n",
    "   )\n",
    "\n",
    "    -- Фильтруем по критериям для Junior\n",
    "    AND (\n",
    "        name ILIKE '%junior%'\n",
    "        OR experience = 'Нет опыта'\n",
    "        OR employment = 'Стажировка'\n",
    "    );\n",
    "'''"
   ],
   "outputs": [],
   "execution_count": 149
  },
  {
   "cell_type": "code",
   "id": "ZNM-LLYuu1dj",
   "metadata": {
    "id": "ZNM-LLYuu1dj",
    "ExecuteTime": {
     "end_time": "2025-03-01T03:52:16.116516Z",
     "start_time": "2025-03-01T03:52:15.968129Z"
    }
   },
   "source": [
    "# результат запроса\n",
    "df = pd.read_sql_query(q_affordable_junior_vacancies, connection)\n",
    "df.head()"
   ],
   "outputs": [
    {
     "data": {
      "text/plain": [
       "   junior_ds_vacancy_count\n",
       "0                       51"
      ],
      "text/html": [
       "<div>\n",
       "<style scoped>\n",
       "    .dataframe tbody tr th:only-of-type {\n",
       "        vertical-align: middle;\n",
       "    }\n",
       "\n",
       "    .dataframe tbody tr th {\n",
       "        vertical-align: top;\n",
       "    }\n",
       "\n",
       "    .dataframe thead th {\n",
       "        text-align: right;\n",
       "    }\n",
       "</style>\n",
       "<table border=\"1\" class=\"dataframe\">\n",
       "  <thead>\n",
       "    <tr style=\"text-align: right;\">\n",
       "      <th></th>\n",
       "      <th>junior_ds_vacancy_count</th>\n",
       "    </tr>\n",
       "  </thead>\n",
       "  <tbody>\n",
       "    <tr>\n",
       "      <th>0</th>\n",
       "      <td>51</td>\n",
       "    </tr>\n",
       "  </tbody>\n",
       "</table>\n",
       "</div>"
      ]
     },
     "execution_count": 150,
     "metadata": {},
     "output_type": "execute_result"
    }
   ],
   "execution_count": 150
  },
  {
   "cell_type": "markdown",
   "id": "eedceb80-c5ca-480e-b27a-278dfb8b4438",
   "metadata": {
    "id": "eedceb80-c5ca-480e-b27a-278dfb8b4438"
   },
   "source": [
    "3. Сколько есть вакансий для DS, в которых в качестве ключевого навыка указан SQL или Postgres?\n",
    "\n",
    "    *Критерии для отнесения вакансии к DS указаны в предыдущем задании.*"
   ]
  },
  {
   "cell_type": "code",
   "id": "69621713-0cc5-4f1b-a1d7-bb144fa6148c",
   "metadata": {
    "id": "69621713-0cc5-4f1b-a1d7-bb144fa6148c",
    "ExecuteTime": {
     "end_time": "2025-03-01T03:58:03.292628Z",
     "start_time": "2025-03-01T03:58:03.279610Z"
    }
   },
   "source": [
    "# текст запроса\n",
    "q_affordable_sql_vacancies = f'''\n",
    "SELECT COUNT(*) AS ds_vacancies_with_sql\n",
    "FROM vacancies\n",
    "WHERE\n",
    "   -- Все, что связано с DS и ML\n",
    "   (\n",
    "      name ILIKE '%data scientist%'\n",
    "      OR name ILIKE '%data science%'\n",
    "      OR name ILIKE '%исследователь данных%'\n",
    "      OR (\n",
    "         name ILIKE '%ML%' AND name NOT ILIKE '%html%'\n",
    "      )\n",
    "      OR name ILIKE '%machine learning%'\n",
    "      OR name ILIKE '%машинн%обучен%'\n",
    "   )\n",
    "\n",
    "    -- Фильтр по ключевым навыкам (SQL или Postgres)\n",
    "    AND (key_skills ILIKE '%sql%'\n",
    "    OR key_skills ILIKE '%postgres%');\n",
    "'''"
   ],
   "outputs": [],
   "execution_count": 155
  },
  {
   "cell_type": "code",
   "id": "alA8WEAAvGdf",
   "metadata": {
    "id": "alA8WEAAvGdf",
    "ExecuteTime": {
     "end_time": "2025-03-01T03:58:05.272658Z",
     "start_time": "2025-03-01T03:58:04.981383Z"
    }
   },
   "source": [
    "# результат запроса\n",
    "df = pd.read_sql_query(q_affordable_sql_vacancies, connection)\n",
    "df.head()"
   ],
   "outputs": [
    {
     "data": {
      "text/plain": [
       "   ds_vacancies_with_sql\n",
       "0                    229"
      ],
      "text/html": [
       "<div>\n",
       "<style scoped>\n",
       "    .dataframe tbody tr th:only-of-type {\n",
       "        vertical-align: middle;\n",
       "    }\n",
       "\n",
       "    .dataframe tbody tr th {\n",
       "        vertical-align: top;\n",
       "    }\n",
       "\n",
       "    .dataframe thead th {\n",
       "        text-align: right;\n",
       "    }\n",
       "</style>\n",
       "<table border=\"1\" class=\"dataframe\">\n",
       "  <thead>\n",
       "    <tr style=\"text-align: right;\">\n",
       "      <th></th>\n",
       "      <th>ds_vacancies_with_sql</th>\n",
       "    </tr>\n",
       "  </thead>\n",
       "  <tbody>\n",
       "    <tr>\n",
       "      <th>0</th>\n",
       "      <td>229</td>\n",
       "    </tr>\n",
       "  </tbody>\n",
       "</table>\n",
       "</div>"
      ]
     },
     "execution_count": 156,
     "metadata": {},
     "output_type": "execute_result"
    }
   ],
   "execution_count": 156
  },
  {
   "cell_type": "markdown",
   "id": "1be1e9c6-37cf-4a5f-bfeb-04cab799dc80",
   "metadata": {
    "id": "1be1e9c6-37cf-4a5f-bfeb-04cab799dc80"
   },
   "source": [
    "4. Проверьте, насколько популярен Python в требованиях работодателей к DS. Для этого вычислите количество вакансий, в которых в качестве ключевого навыка указан Python.\n",
    "\n",
    "    *Это можно сделать помощью запроса, аналогичного предыдущему.*"
   ]
  },
  {
   "cell_type": "code",
   "id": "0036a355-9ccf-4564-8b01-73d8194297e7",
   "metadata": {
    "id": "0036a355-9ccf-4564-8b01-73d8194297e7",
    "ExecuteTime": {
     "end_time": "2025-03-01T03:51:15.425825Z",
     "start_time": "2025-03-01T03:51:15.421852Z"
    }
   },
   "source": [
    "# текст запроса\n",
    "q_affordable_python_vacancies = f'''\n",
    "SELECT COUNT(*) AS ds_vacancies_with_python\n",
    "FROM vacancies\n",
    "WHERE\n",
    "   -- Все, что связано с DS и ML\n",
    "   (\n",
    "      name ILIKE '%data scientist%'\n",
    "      OR name ILIKE '%data science%'\n",
    "      OR name ILIKE '%исследователь данных%'\n",
    "      OR (\n",
    "         name ILIKE '%ML%' AND name NOT ILIKE '%html%'\n",
    "      )\n",
    "      OR name ILIKE '%machine learning%'\n",
    "      OR name ILIKE '%машинн%обучен%'\n",
    "   )\n",
    "\n",
    "    -- Фильтр по ключевому навыку Python\n",
    "    AND key_skills ILIKE '%python%';\n",
    "'''"
   ],
   "outputs": [],
   "execution_count": 143
  },
  {
   "cell_type": "code",
   "id": "1i-5WyucvQ6v",
   "metadata": {
    "id": "1i-5WyucvQ6v",
    "ExecuteTime": {
     "end_time": "2025-03-01T03:51:16.676125Z",
     "start_time": "2025-03-01T03:51:16.511561Z"
    }
   },
   "source": [
    "# результат запроса\n",
    "df = pd.read_sql_query(q_affordable_python_vacancies, connection)\n",
    "df.head()"
   ],
   "outputs": [
    {
     "data": {
      "text/plain": [
       "   ds_vacancies_with_python\n",
       "0                       357"
      ],
      "text/html": [
       "<div>\n",
       "<style scoped>\n",
       "    .dataframe tbody tr th:only-of-type {\n",
       "        vertical-align: middle;\n",
       "    }\n",
       "\n",
       "    .dataframe tbody tr th {\n",
       "        vertical-align: top;\n",
       "    }\n",
       "\n",
       "    .dataframe thead th {\n",
       "        text-align: right;\n",
       "    }\n",
       "</style>\n",
       "<table border=\"1\" class=\"dataframe\">\n",
       "  <thead>\n",
       "    <tr style=\"text-align: right;\">\n",
       "      <th></th>\n",
       "      <th>ds_vacancies_with_python</th>\n",
       "    </tr>\n",
       "  </thead>\n",
       "  <tbody>\n",
       "    <tr>\n",
       "      <th>0</th>\n",
       "      <td>357</td>\n",
       "    </tr>\n",
       "  </tbody>\n",
       "</table>\n",
       "</div>"
      ]
     },
     "execution_count": 144,
     "metadata": {},
     "output_type": "execute_result"
    }
   ],
   "execution_count": 144
  },
  {
   "cell_type": "markdown",
   "id": "ec3c8db7-fa21-4a41-a994-1af63742a642",
   "metadata": {
    "id": "ec3c8db7-fa21-4a41-a994-1af63742a642"
   },
   "source": [
    "5. Сколько ключевых навыков в среднем указывают в вакансиях для DS?\n",
    "Ответ округлите до **двух знаков после точки-разделителя**."
   ]
  },
  {
   "cell_type": "code",
   "id": "949132bc-d5b6-4611-8218-0b9a504d74f4",
   "metadata": {
    "id": "949132bc-d5b6-4611-8218-0b9a504d74f4",
    "ExecuteTime": {
     "end_time": "2025-03-01T02:50:25.087675Z",
     "start_time": "2025-03-01T02:46:31.510057Z"
    }
   },
   "source": [
    "# текст запроса\n",
    "q_key_skills = f'''\n",
    "SELECT\n",
    "   ROUND(AVG(LENGTH(key_skills) - LENGTH(REPLACE(key_skills, CHR(9), '')) + 1), 2) as avg_key_skills\n",
    "FROM public.vacancies\n",
    "WHERE\n",
    "   -- Все, что связано с DS и ML\n",
    "   (\n",
    "      name ILIKE '%data scientist%'\n",
    "      OR name ILIKE '%data science%'\n",
    "      OR name ILIKE '%исследователь данных%'\n",
    "      OR (\n",
    "         name LIKE '%ML%' AND name NOT ILIKE '%html%'\n",
    "      )\n",
    "      OR name ILIKE '%machine learning%'\n",
    "      OR name ILIKE '%машинн%обучен%'\n",
    "   )\n",
    "   -- не берем в расчет key_skills с пустыми и NULL key_skills\n",
    "   AND key_skills IS NOT NULL AND key_skills != '';\n",
    "'''"
   ],
   "outputs": [],
   "execution_count": 53
  },
  {
   "cell_type": "code",
   "id": "a3V24Tvmviqk",
   "metadata": {
    "id": "a3V24Tvmviqk",
    "ExecuteTime": {
     "end_time": "2025-03-01T02:50:25.087838Z",
     "start_time": "2025-03-01T02:46:31.599781Z"
    }
   },
   "source": [
    "# результат запроса\n",
    "df = pd.read_sql_query(q_key_skills, connection)\n",
    "df.head()"
   ],
   "outputs": [
    {
     "data": {
      "text/plain": [
       "   avg_key_skills\n",
       "0            6.41"
      ],
      "text/html": [
       "<div>\n",
       "<style scoped>\n",
       "    .dataframe tbody tr th:only-of-type {\n",
       "        vertical-align: middle;\n",
       "    }\n",
       "\n",
       "    .dataframe tbody tr th {\n",
       "        vertical-align: top;\n",
       "    }\n",
       "\n",
       "    .dataframe thead th {\n",
       "        text-align: right;\n",
       "    }\n",
       "</style>\n",
       "<table border=\"1\" class=\"dataframe\">\n",
       "  <thead>\n",
       "    <tr style=\"text-align: right;\">\n",
       "      <th></th>\n",
       "      <th>avg_key_skills</th>\n",
       "    </tr>\n",
       "  </thead>\n",
       "  <tbody>\n",
       "    <tr>\n",
       "      <th>0</th>\n",
       "      <td>6.41</td>\n",
       "    </tr>\n",
       "  </tbody>\n",
       "</table>\n",
       "</div>"
      ]
     },
     "execution_count": 54,
     "metadata": {},
     "output_type": "execute_result"
    }
   ],
   "execution_count": 54
  },
  {
   "cell_type": "markdown",
   "id": "1041c17a-ca8f-4543-a0ca-32778914fb00",
   "metadata": {
    "id": "1041c17a-ca8f-4543-a0ca-32778914fb00"
   },
   "source": [
    "6. Напишите запрос, позволяющий вычислить, какую зарплату для DS в среднем указывают для каждого типа требуемого опыта (уникальное значение из поля `experience`).\n",
    "\n",
    "    При решении задачи примите во внимание следующее:\n",
    "    1. Рассматриваем только вакансии, у которых заполнено хотя бы одно из двух полей с зарплатой.\n",
    "    2. Если заполнены оба поля с зарплатой, то считаем зарплату по каждой вакансии как сумму двух полей, делённую на 2. Если заполнено только одно из полей, то его и считаем зарплатой по вакансии.\n",
    "    3. Если в расчётах участвует `null`, в результате он тоже даст `null` (посмотрите, что возвращает запрос `select 1 + null`). Чтобы избежать этой ситуацию, мы воспользуемся функцией [coalesce](https://postgrespro.ru/docs/postgresql/9.5/functions-conditional#functions-coalesce-nvl-ifnull), которая заменит `null` на значение, которое мы передадим. Например, посмотрите, что возвращает запрос `select 1 + coalesce(null, 0)`\n",
    "\n",
    "    Выясните, на какую зарплату в среднем может рассчитывать дата-сайентист с опытом работы от 3 до 6 лет. Результат округлите до **целого числа**."
   ]
  },
  {
   "metadata": {
    "id": "6a743d39-5204-48d3-8271-b9f88e68d40e",
    "ExecuteTime": {
     "end_time": "2025-03-01T02:50:25.088097Z",
     "start_time": "2025-03-01T02:46:32.042990Z"
    }
   },
   "cell_type": "code",
   "source": [
    "# текст запроса\n",
    "q_avg_salary = f'''\n",
    "SELECT\n",
    "   experience,\n",
    "   ROUND(avg(COALESCE((salary_to + salary_from)/2, salary_from, salary_to)), 0) AS avg_salary\n",
    "FROM vacancies\n",
    "WHERE\n",
    "-- Все, что связано с DS и ML\n",
    "(\n",
    "   name ILIKE '%data scientist%'\n",
    "   OR name ILIKE '%data science%'\n",
    "   OR name ILIKE '%исследователь данных%'\n",
    "   OR (\n",
    "      name LIKE '%ML%' AND name NOT ILIKE '%html%'\n",
    "   )\n",
    "   OR name ILIKE '%machine learning%'\n",
    "   OR name ILIKE '%машинн%обучен%'\n",
    ")\n",
    "-- Уберем полные пропуски по всему salary\n",
    "AND (salary_from is not null OR salary_to is not null)\n",
    "\n",
    "GROUP BY experience\n",
    "'''"
   ],
   "id": "6a743d39-5204-48d3-8271-b9f88e68d40e",
   "outputs": [],
   "execution_count": 55
  },
  {
   "cell_type": "code",
   "id": "aRIJ0mZEwU1_",
   "metadata": {
    "id": "aRIJ0mZEwU1_",
    "ExecuteTime": {
     "end_time": "2025-03-01T02:50:25.088216Z",
     "start_time": "2025-03-01T02:46:32.143370Z"
    }
   },
   "source": [
    "# результат запроса\n",
    "df = pd.read_sql_query(q_avg_salary, connection)\n",
    "df.head()"
   ],
   "outputs": [
    {
     "data": {
      "text/plain": [
       "           experience  avg_salary\n",
       "0           Нет опыта     74643.0\n",
       "1  От 1 года до 3 лет    139675.0\n",
       "2       От 3 до 6 лет    243115.0"
      ],
      "text/html": [
       "<div>\n",
       "<style scoped>\n",
       "    .dataframe tbody tr th:only-of-type {\n",
       "        vertical-align: middle;\n",
       "    }\n",
       "\n",
       "    .dataframe tbody tr th {\n",
       "        vertical-align: top;\n",
       "    }\n",
       "\n",
       "    .dataframe thead th {\n",
       "        text-align: right;\n",
       "    }\n",
       "</style>\n",
       "<table border=\"1\" class=\"dataframe\">\n",
       "  <thead>\n",
       "    <tr style=\"text-align: right;\">\n",
       "      <th></th>\n",
       "      <th>experience</th>\n",
       "      <th>avg_salary</th>\n",
       "    </tr>\n",
       "  </thead>\n",
       "  <tbody>\n",
       "    <tr>\n",
       "      <th>0</th>\n",
       "      <td>Нет опыта</td>\n",
       "      <td>74643.0</td>\n",
       "    </tr>\n",
       "    <tr>\n",
       "      <th>1</th>\n",
       "      <td>От 1 года до 3 лет</td>\n",
       "      <td>139675.0</td>\n",
       "    </tr>\n",
       "    <tr>\n",
       "      <th>2</th>\n",
       "      <td>От 3 до 6 лет</td>\n",
       "      <td>243115.0</td>\n",
       "    </tr>\n",
       "  </tbody>\n",
       "</table>\n",
       "</div>"
      ]
     },
     "execution_count": 56,
     "metadata": {},
     "output_type": "execute_result"
    }
   ],
   "execution_count": 56
  },
  {
   "cell_type": "markdown",
   "id": "6a7892b4-4113-4746-adce-18aa2844f18e",
   "metadata": {
    "id": "6a7892b4-4113-4746-adce-18aa2844f18e"
   },
   "source": [
    "***"
   ]
  },
  {
   "metadata": {
    "id": "UjLWUptVwY1o",
    "ExecuteTime": {
     "end_time": "2025-03-01T02:50:25.088440Z",
     "start_time": "2025-03-01T02:46:32.532312Z"
    }
   },
   "cell_type": "code",
   "outputs": [],
   "execution_count": 57,
   "source": "# выводы по предметному анализу",
   "id": "UjLWUptVwY1o"
  },
  {
   "metadata": {},
   "cell_type": "markdown",
   "source": [
    "Количество вакансий, связанных с DS, составляет 1771. Спрос вроде как есть, но сказать, растет он или нет, не возможно. Надо смотреть в динамике,\n",
    "\n",
    "Очень мало предложений для Junior Data Scientist. Это может свидетельствовать о высокой конкуренции на старте. Большинство предпочитают опытных кандидатов.\n",
    "\n",
    "Знание SQL/Postgres и Python встречается часто, но, почему-то не в большинстве объявлений о найме. Это прямо странно. Возможно работодатели считают это must have навыками и указывают не всегда в таких общих формулировках. Еще возможно, что пишут в \"теле\" вакансии. Здесь нужно дополнительное исследование по частоте ключевых фраз по всем текстам.\n",
    "\n",
    "Среднее количество требований к навыкам составляет 6–7, что говорит о необходимости широкой компетенции в смежных технологиях.\n",
    "\n",
    "Уровень оплаты труда напрямую зависит от опыта: кандидаты с 3–6 годами стажа получают значительно более высокие предложения по сравнению с начинающими специалистами."
   ],
   "id": "9892039e93bc2d02"
  },
  {
   "metadata": {
    "id": "c0ED6fh7wiBT"
   },
   "cell_type": "markdown",
   "source": "## Общий вывод по проекту",
   "id": "c0ED6fh7wiBT"
  },
  {
   "cell_type": "code",
   "id": "h9B3BL-wwj18",
   "metadata": {
    "id": "h9B3BL-wwj18",
    "ExecuteTime": {
     "end_time": "2025-03-01T02:50:25.089163Z",
     "start_time": "2025-03-01T02:46:32.609534Z"
    }
   },
   "source": [
    "# подведем итог исследования, обобщите выводы\n",
    "# здесь можно (это будет плюсом) провести дополнительные исследования данных, сделать прогнозы, продумать варианты продолжения исследования"
   ],
   "outputs": [],
   "execution_count": 58
  },
  {
   "metadata": {},
   "cell_type": "markdown",
   "source": [
    "### География и масштаб исследования\n",
    "\n",
    "- Исследование охватило более 49 тысяч вакансий и 20 тысяч работодателей в 1300+ регионах, что позволяет делать репрезентативные выводы о текущем состоянии рынка труда.\n",
    "Вакансии распределены по широкому спектру отраслей (около 300 сфер деятельности) — от IT и финансового сектора до образования и производства.\n",
    "\n",
    "- Ожидаемо, основной объем вакансий сосредоточен в крупнейших городах. Лидируют Москва, Санкт-Петербург, Минск, Новосибирск, однако в некоторых регионах предложение минимально или вовсе отсутствует, несмотря на наличие работодателей. Интересно, что города СНГ (Минск, Алматы, Ташкент) по динамике схожи с российскими миллионниками, что подтверждает востребованность платформы HeadHunter в странах ближнего зарубежья.\n",
    "\n",
    "### Распределение вакансий и зарплат\n",
    "\n",
    "- На рынке явно преобладают вакансии с полной занятостью и стандартным графиком работы. Однако около 20% предложений предполагают удалённую работу, что может говорить о постепенном изменении формата труда.\n",
    "\n",
    "- Более половины вакансий не содержат зарплатных ориентиров, что делает сложнее анализ рынка для кандидатов. Средние границы окладов (70–110 тыс. рублей) сами по себе малоинформативны — важнее изучить динамику по годам, а также влияние таких факторов, как опыт, регион и отрасль.\n",
    "\n",
    "- Пропорция количества вакансий к числу работодателей значительно различается в зависимости от региона. В Москве, например, этот показатель один из самых низких (0.91 вакансий на компанию). Возможно, в разных регионах работодатели используют дополнительные платформы для найма, что может стать темой для дальнейшего исследования.\n",
    "\n",
    "### Требования к кандидатам\n",
    "\n",
    "- Наибольший спрос наблюдается на специалистов с 1–3 годами и 3–6 годами опыта. Интересно, что позиции без опыта встречаются чаще, чем вакансии для кандидатов с опытом более 6 лет. Вероятно, работодатели рассматривают специалистов с 6+ годами стажа в тех же категориях, что и соискателей 3–6 лет.\n",
    "\n",
    "- Среднее количество указанных ключевых навыков — 6–7, что свидетельствует о необходимости владения сразу несколькими инструментами. В IT и аналитике это особенно заметно: кандидаты должны сочетать знания статистики, программирования и визуализации данных.\n",
    "\n",
    "### Лидеры среди работодателей\n",
    "\n",
    "- Крупные компании, такие как Яндекс, Сбер, Тинькофф и Ростелеком, значительно опережают других работодателей по числу вакансий. Это связано не только с масштабами их бизнеса, но и с постоянной потребностью в новых сотрудниках.\n",
    "\n",
    "- «Яндекс» представлен практически во всех городах-миллионниках либо активно нанимает сотрудников на удалённую работу по всей России. Здесь интересно проанализировать долю удалённых вакансий в динамике.\n",
    "\n",
    "### Спрос на Data Science-специалистов\n",
    "\n",
    "- Общее число вакансий в сфере Data Science превышает 1,700, однако сказать, растёт ли этот рынок, невозможно без анализа динамики.\n",
    "\n",
    "- Количество вакансий для Junior Data Scientist крайне мало, что может указывать на высокую конкуренцию среди новичков. Работодатели чаще предпочитают кандидатов с опытом, способных сразу решать практические задачи.\n",
    "\n",
    "Знание SQL/Postgres и Python встречается во многих вакансиях. Возможно, работодатели считают эти навыки стандартными для DS и не всегда фиксируют их в блоке ключевых требований. Для более точного понимания можно исследовать тексты вакансий на частоту упоминания нужных технологий.\n",
    "\n",
    "### Перспективные направления исследования\n",
    "\n",
    "🔹 Детальный анализ вакансий по отраслям, чтобы выявить, в каких сферах самый большой кадровый дефицит.\n",
    "🔹 Изучение динамики вакансий (если есть данные по времени публикации), чтобы определить тренды.\n",
    "🔹 Кросс-анализ навыков: какие стеки технологий (Python+SQL, R+Spark) чаще встречаются вместе.\n",
    "🔹 Сравнение зарплат и требований по уровням опыта (не только в DS, но и в IT, аналитике, разработке).\n"
   ],
   "id": "14eeca0f1ff386e3"
  },
  {
   "metadata": {},
   "cell_type": "markdown",
   "source": [
    "## Дополнительное исследование\n",
    "### Топ ключевых навыков, встречающихся в вакансиях для сфера Data Science"
   ],
   "id": "31550237f2d57c68"
  },
  {
   "metadata": {
    "ExecuteTime": {
     "end_time": "2025-03-01T04:18:26.767423Z",
     "start_time": "2025-03-01T04:18:26.477002Z"
    }
   },
   "cell_type": "code",
   "source": [
    "# SQL-запрос для получения топ-скиллов, требуемых Data Scientists\n",
    "q_top_skills = f'''\n",
    "SELECT\n",
    "   UNNEST(STRING_TO_ARRAY(key_skills, CHR(9))) AS skill,\n",
    "   COUNT(*) AS skill_count\n",
    "FROM public.vacancies\n",
    "WHERE\n",
    "   -- Фильтр по вакансиям в DS и ML\n",
    "   (\n",
    "      name ILIKE '%data scientist%'\n",
    "      OR name ILIKE '%data science%'\n",
    "      OR name ILIKE '%исследователь данных%'\n",
    "      OR (name LIKE '%ML%' AND name NOT ILIKE '%html%')\n",
    "      OR name ILIKE '%machine learning%'\n",
    "      OR name ILIKE '%машинн%обучен%'\n",
    "   )\n",
    "   -- Исключаем пустые и NULL значения key_skills\n",
    "   AND key_skills IS NOT NULL AND key_skills != ''\n",
    "GROUP BY skill\n",
    "ORDER BY skill_count DESC\n",
    "LIMIT 15;\n",
    "'''\n",
    "\n",
    "df_skills = pd.read_sql_query(q_top_skills, connection)\n",
    "df_skills.head()"
   ],
   "id": "b981c8e94c255576",
   "outputs": [
    {
     "data": {
      "text/plain": [
       "                       skill  skill_count\n",
       "0                     Python          348\n",
       "1                        SQL          191\n",
       "2           Machine Learning          114\n",
       "3                        Git           66\n",
       "4  Математическая статистика           62"
      ],
      "text/html": [
       "<div>\n",
       "<style scoped>\n",
       "    .dataframe tbody tr th:only-of-type {\n",
       "        vertical-align: middle;\n",
       "    }\n",
       "\n",
       "    .dataframe tbody tr th {\n",
       "        vertical-align: top;\n",
       "    }\n",
       "\n",
       "    .dataframe thead th {\n",
       "        text-align: right;\n",
       "    }\n",
       "</style>\n",
       "<table border=\"1\" class=\"dataframe\">\n",
       "  <thead>\n",
       "    <tr style=\"text-align: right;\">\n",
       "      <th></th>\n",
       "      <th>skill</th>\n",
       "      <th>skill_count</th>\n",
       "    </tr>\n",
       "  </thead>\n",
       "  <tbody>\n",
       "    <tr>\n",
       "      <th>0</th>\n",
       "      <td>Python</td>\n",
       "      <td>348</td>\n",
       "    </tr>\n",
       "    <tr>\n",
       "      <th>1</th>\n",
       "      <td>SQL</td>\n",
       "      <td>191</td>\n",
       "    </tr>\n",
       "    <tr>\n",
       "      <th>2</th>\n",
       "      <td>Machine Learning</td>\n",
       "      <td>114</td>\n",
       "    </tr>\n",
       "    <tr>\n",
       "      <th>3</th>\n",
       "      <td>Git</td>\n",
       "      <td>66</td>\n",
       "    </tr>\n",
       "    <tr>\n",
       "      <th>4</th>\n",
       "      <td>Математическая статистика</td>\n",
       "      <td>62</td>\n",
       "    </tr>\n",
       "  </tbody>\n",
       "</table>\n",
       "</div>"
      ]
     },
     "execution_count": 157,
     "metadata": {},
     "output_type": "execute_result"
    }
   ],
   "execution_count": 157
  },
  {
   "metadata": {
    "ExecuteTime": {
     "end_time": "2025-03-01T04:18:48.765873Z",
     "start_time": "2025-03-01T04:18:48.620672Z"
    }
   },
   "cell_type": "code",
   "source": [
    "# Визуализация результатов\n",
    "plt.figure(figsize=(10, 6))\n",
    "plt.barh(df_skills[\"skill\"], df_skills[\"skill_count\"], color=\"blue\")\n",
    "plt.xlabel(\"Частота упоминаний\")\n",
    "plt.ylabel(\"Навык\")\n",
    "plt.title(\"Топ-15 ключевых навыков для Data Scientists\")\n",
    "plt.gca().invert_yaxis()  # Инвертируем ось Y для лучшей читаемости\n",
    "plt.show()"
   ],
   "id": "193348176465fcdd",
   "outputs": [
    {
     "data": {
      "text/plain": [
       "<Figure size 1000x600 with 1 Axes>"
      ],
      "image/png": "[encoded data removed]"
     },
     "metadata": {},
     "output_type": "display_data"
    }
   ],
   "execution_count": 158
  },
  {
   "metadata": {},
   "cell_type": "markdown",
   "source": [
    "### Выводы по анализу ключевых навыков Data Scientists\n",
    "1. Python и SQL — базовые навыки для Data Science\n",
    "    - Python лидирует с наибольшей частотой упоминаний, что подтверждает его ключевую роль в анализе данных, машинном обучении и разработке моделей.\n",
    "    - SQL занимает второе место, что подчёркивает важность работы с базами данных и написания запросов для анализа данных.\n",
    "2. Востребованность Machine Learning и связанных инструментов\n",
    "    - Machine Learning уверенно занимает третью позицию, что ожидаемо для DS-специализации.\n",
    "    - Pandas, PyTorch, ML, Data Science, Data Analysis также входят в топ, указывая на необходимость работы с данными, анализа и создания моделей.\n",
    "3. Общие навыки и инструменты\n",
    "    - Git среди топ-скиллов показывает, что Data Scientists должны владеть системами контроля версий.\n",
    "    - Linux присутствует в списке, что говорит о востребованности работы в серверных средах.\n",
    "4. Математика и статистика остаются важными\n",
    "    - Математическая статистика и математическое моделирование указывают, что фундаментальные знания статистики и методов анализа данных по-прежнему важны.\n",
    "5. Big Data и Cloud начинают набирать вес\n",
    "    - Big Data подтверждает, что работа с большими объёмами данных становится всё более значимой.\n",
    "\n",
    "#### В сухом остатке\n",
    "Востребованный Data Scientist — это специалист, владеющий Python, SQL, ML, статистикой и инструментами работы с данными. Важно не только программирование, но и знание анализа данных, машинного обучения и работы с большими данными."
   ],
   "id": "e97496ff00721e65"
  },
  {
   "metadata": {
    "ExecuteTime": {
     "end_time": "2025-03-01T02:50:25.089344Z",
     "start_time": "2025-03-01T02:46:32.697884Z"
    }
   },
   "cell_type": "code",
   "source": "connection.close()",
   "id": "3409198770284120",
   "outputs": [],
   "execution_count": 59
  }
 ],
 "metadata": {
  "colab": {
   "collapsed_sections": [
    "8d62a9f3-f64e-4fe7-bdac-c4dffa16155e"
   ],
   "provenance": []
  },
  "kernelspec": {
   "display_name": "Python 3 (ipykernel)",
   "language": "python",
   "name": "python3"
  },
  "language_info": {
   "codemirror_mode": {
    "name": "ipython",
    "version": 3
   },
   "file_extension": ".py",
   "mimetype": "text/x-python",
   "name": "python",
   "nbconvert_exporter": "python",
   "pygments_lexer": "ipython3",
   "version": "3.9.7"
  }
 },
 "nbformat": 4,
 "nbformat_minor": 5
}
